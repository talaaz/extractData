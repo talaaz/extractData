{
  "nbformat": 4,
  "nbformat_minor": 0,
  "metadata": {
    "kernelspec": {
      "display_name": "Python 3",
      "language": "python",
      "name": "python3"
    },
    "language_info": {
      "codemirror_mode": {
        "name": "ipython",
        "version": 3
      },
      "file_extension": ".py",
      "mimetype": "text/x-python",
      "name": "python",
      "nbconvert_exporter": "python",
      "pygments_lexer": "ipython3",
      "version": "3.7.6"
    },
    "papermill": {
      "duration": 7.350334,
      "end_time": "2020-10-01T00:23:03.593488",
      "environment_variables": {},
      "exception": null,
      "input_path": "__notebook__.ipynb",
      "output_path": "__notebook__.ipynb",
      "parameters": {},
      "start_time": "2020-10-01T00:22:56.243154",
      "version": "2.1.0"
    },
    "colab": {
      "name": "Kopi af extract_stackoverflow_network.ipynb",
      "provenance": [],
      "collapsed_sections": [],
      "toc_visible": true
    },
    "accelerator": "GPU"
  },
  "cells": [
    {
      "cell_type": "markdown",
      "metadata": {
        "papermill": {
          "duration": 0.010571,
          "end_time": "2020-10-01T00:23:00.512872",
          "exception": false,
          "start_time": "2020-10-01T00:23:00.502301",
          "status": "completed"
        },
        "tags": [],
        "id": "IMenw0jo5No_"
      },
      "source": [
        "# Introduction\n",
        "\n",
        "Structured Query Language, or **SQL**, is the programming language used with databases. In this notebook, it's shown how to query SQL for stackoverflow data using **BigQuery**, a web service that lets you apply SQL to huge datasets.\n",
        "\n",
        "To use BigQuery, we'll import the Python package below:"
      ]
    },
    {
      "cell_type": "code",
      "metadata": {
        "execution": {
          "iopub.execute_input": "2020-10-01T00:23:00.536917Z",
          "iopub.status.busy": "2020-10-01T00:23:00.535991Z",
          "iopub.status.idle": "2020-10-01T00:23:00.539032Z",
          "shell.execute_reply": "2020-10-01T00:23:00.538361Z"
        },
        "papermill": {
          "duration": 0.016762,
          "end_time": "2020-10-01T00:23:00.539141",
          "exception": false,
          "start_time": "2020-10-01T00:23:00.522379",
          "status": "completed"
        },
        "tags": [],
        "id": "TMhYaB1D5NpA"
      },
      "source": [
        "from google.cloud import bigquery"
      ],
      "execution_count": null,
      "outputs": []
    },
    {
      "cell_type": "code",
      "metadata": {
        "id": "3_oHYnEAzZx4",
        "colab": {
          "base_uri": "https://localhost:8080/"
        },
        "outputId": "ed27653f-3bc6-4738-c9c0-00e7ef9d0220"
      },
      "source": [
        "from google.colab import drive\n",
        "# This will prompt for authorization.\n",
        "\n",
        "drive.mount('/content/drive')"
      ],
      "execution_count": null,
      "outputs": [
        {
          "output_type": "stream",
          "text": [
            "Mounted at /content/drive\n"
          ],
          "name": "stdout"
        }
      ]
    },
    {
      "cell_type": "markdown",
      "metadata": {
        "papermill": {
          "duration": 0.009199,
          "end_time": "2020-10-01T00:23:00.558030",
          "exception": false,
          "start_time": "2020-10-01T00:23:00.548831",
          "status": "completed"
        },
        "tags": [],
        "id": "PcBAKmlp5NpH"
      },
      "source": [
        "The first step in the workflow is to create a [`Client`](https://google-cloud.readthedocs.io/en/latest/bigquery/generated/google.cloud.bigquery.client.Client.html#google.cloud.bigquery.client.Client) object.  As you'll soon see, this `Client` object will play a central role in retrieving information from BigQuery datasets."
      ]
    },
    {
      "cell_type": "code",
      "metadata": {
        "id": "UrtIf18M7T3d"
      },
      "source": [
        "import os\n",
        "os.environ[\"GOOGLE_APPLICATION_CREDENTIALS\"]=\"GoogleSheetConnect-b417eb9921a8.json\""
      ],
      "execution_count": null,
      "outputs": []
    },
    {
      "cell_type": "code",
      "metadata": {
        "execution": {
          "iopub.execute_input": "2020-10-01T00:23:00.581237Z",
          "iopub.status.busy": "2020-10-01T00:23:00.580592Z",
          "iopub.status.idle": "2020-10-01T00:23:00.585278Z",
          "shell.execute_reply": "2020-10-01T00:23:00.585787Z"
        },
        "papermill": {
          "duration": 0.018446,
          "end_time": "2020-10-01T00:23:00.585933",
          "exception": false,
          "start_time": "2020-10-01T00:23:00.567487",
          "status": "completed"
        },
        "tags": [],
        "id": "Z-Gq0vKr5NpI"
      },
      "source": [
        "# Create a \"Client\" object\n",
        "client = bigquery.Client()"
      ],
      "execution_count": null,
      "outputs": []
    },
    {
      "cell_type": "markdown",
      "metadata": {
        "papermill": {
          "duration": 0.011116,
          "end_time": "2020-10-01T00:23:00.607493",
          "exception": false,
          "start_time": "2020-10-01T00:23:00.596377",
          "status": "completed"
        },
        "tags": [],
        "id": "n4rkzv_55NpM"
      },
      "source": [
        "In BigQuery, each dataset is contained in a corresponding project.  In this case, our `stackoverflow` dataset is contained in the `bigquery-public-data` project.  To access the dataset, \n",
        "- We begin by constructing a reference to the dataset with the [`dataset()`](https://google-cloud.readthedocs.io/en/latest/bigquery/generated/google.cloud.bigquery.client.Client.dataset.html#google.cloud.bigquery.client.Client.dataset) method.  \n",
        "- Next, we use the [`get_dataset()`](https://google-cloud.readthedocs.io/en/latest/bigquery/generated/google.cloud.bigquery.client.Client.get_dataset.html#google.cloud.bigquery.client.Client.get_dataset) method, along with the reference we just constructed, to fetch the dataset."
      ]
    },
    {
      "cell_type": "code",
      "metadata": {
        "execution": {
          "iopub.execute_input": "2020-10-01T00:23:00.632642Z",
          "iopub.status.busy": "2020-10-01T00:23:00.631890Z",
          "iopub.status.idle": "2020-10-01T00:23:01.370548Z",
          "shell.execute_reply": "2020-10-01T00:23:01.369892Z"
        },
        "papermill": {
          "duration": 0.753439,
          "end_time": "2020-10-01T00:23:01.370669",
          "exception": false,
          "start_time": "2020-10-01T00:23:00.617230",
          "status": "completed"
        },
        "tags": [],
        "id": "3D9cwOg35NpN"
      },
      "source": [
        "# Construct a reference to the \"stackoverflow\" dataset\n",
        "dataset_ref = client.dataset(\"stackoverflow\", project=\"bigquery-public-data\")\n",
        "\n",
        "# API request - fetch the dataset\n",
        "dataset = client.get_dataset(dataset_ref)"
      ],
      "execution_count": null,
      "outputs": []
    },
    {
      "cell_type": "markdown",
      "metadata": {
        "papermill": {
          "duration": 0.009867,
          "end_time": "2020-10-01T00:23:01.390649",
          "exception": false,
          "start_time": "2020-10-01T00:23:01.380782",
          "status": "completed"
        },
        "tags": [],
        "id": "uT6lNx565NpQ"
      },
      "source": [
        "Every dataset is just a collection of tables.  You can think of a dataset as a spreadsheet file containing multiple tables, all composed of rows and columns.\n",
        "\n",
        "We use the `list_tables()` method to list the tables in the dataset."
      ]
    },
    {
      "cell_type": "code",
      "metadata": {
        "execution": {
          "iopub.execute_input": "2020-10-01T00:23:01.416456Z",
          "iopub.status.busy": "2020-10-01T00:23:01.415825Z",
          "iopub.status.idle": "2020-10-01T00:23:01.644601Z",
          "shell.execute_reply": "2020-10-01T00:23:01.644115Z"
        },
        "papermill": {
          "duration": 0.244405,
          "end_time": "2020-10-01T00:23:01.644733",
          "exception": false,
          "start_time": "2020-10-01T00:23:01.400328",
          "status": "completed"
        },
        "tags": [],
        "id": "Yg3sBoy85NpQ",
        "colab": {
          "base_uri": "https://localhost:8080/"
        },
        "outputId": "f699adae-f490-40d0-d266-1f674cb7e3b8"
      },
      "source": [
        "# List all the tables in the \"stackoverflow\" dataset\n",
        "tables = list(client.list_tables(dataset))\n",
        "\n",
        "# Print names of all tables in the dataset (there are four!)\n",
        "for table in tables:  \n",
        "    print(table.table_id)"
      ],
      "execution_count": null,
      "outputs": [
        {
          "output_type": "stream",
          "text": [
            "badges\n",
            "comments\n",
            "post_history\n",
            "post_links\n",
            "posts_answers\n",
            "posts_moderator_nomination\n",
            "posts_orphaned_tag_wiki\n",
            "posts_privilege_wiki\n",
            "posts_questions\n",
            "posts_tag_wiki\n",
            "posts_tag_wiki_excerpt\n",
            "posts_wiki_placeholder\n",
            "stackoverflow_posts\n",
            "tags\n",
            "users\n",
            "votes\n"
          ],
          "name": "stdout"
        }
      ]
    },
    {
      "cell_type": "markdown",
      "metadata": {
        "papermill": {
          "duration": 0.011545,
          "end_time": "2020-10-01T00:23:01.666482",
          "exception": false,
          "start_time": "2020-10-01T00:23:01.654937",
          "status": "completed"
        },
        "tags": [],
        "id": "B2I9Y1Hk5NpT"
      },
      "source": [
        "Similar to how we fetched a dataset, we can fetch a table.  In the code cell below, we fetch the `users` table in the `stackoverflow` dataset."
      ]
    },
    {
      "cell_type": "code",
      "metadata": {
        "execution": {
          "iopub.execute_input": "2020-10-01T00:23:01.693343Z",
          "iopub.status.busy": "2020-10-01T00:23:01.692646Z",
          "iopub.status.idle": "2020-10-01T00:23:02.114215Z",
          "shell.execute_reply": "2020-10-01T00:23:02.114676Z"
        },
        "papermill": {
          "duration": 0.437628,
          "end_time": "2020-10-01T00:23:02.114877",
          "exception": false,
          "start_time": "2020-10-01T00:23:01.677249",
          "status": "completed"
        },
        "tags": [],
        "id": "IuWNsRZI5NpU"
      },
      "source": [
        "# Construct a reference to the \"full\" table\n",
        "table_ref = dataset_ref.table(\"users\")\n",
        "\n",
        "# API request - fetch the table\n",
        "user_table = client.get_table(table_ref)"
      ],
      "execution_count": null,
      "outputs": []
    },
    {
      "cell_type": "markdown",
      "metadata": {
        "papermill": {
          "duration": 0.00992,
          "end_time": "2020-10-01T00:23:02.156155",
          "exception": false,
          "start_time": "2020-10-01T00:23:02.146235",
          "status": "completed"
        },
        "tags": [],
        "id": "ZnHL6r3q5NpY"
      },
      "source": [
        "# Table schema\n",
        "\n",
        "The structure of a table is called its **schema**.  We need to understand a table's schema to effectively pull out the data we want. \n",
        "\n",
        "In this example, we'll investigate the `users` table that we fetched above."
      ]
    },
    {
      "cell_type": "code",
      "metadata": {
        "execution": {
          "iopub.execute_input": "2020-10-01T00:23:02.184146Z",
          "iopub.status.busy": "2020-10-01T00:23:02.183142Z",
          "iopub.status.idle": "2020-10-01T00:23:02.186662Z",
          "shell.execute_reply": "2020-10-01T00:23:02.187206Z"
        },
        "papermill": {
          "duration": 0.020978,
          "end_time": "2020-10-01T00:23:02.187360",
          "exception": false,
          "start_time": "2020-10-01T00:23:02.166382",
          "status": "completed"
        },
        "tags": [],
        "id": "_VMzJd6C5NpY",
        "colab": {
          "base_uri": "https://localhost:8080/"
        },
        "outputId": "d7a714e3-684f-472a-c6d8-291bf7143b35"
      },
      "source": [
        "# Print information on all the columns in the \"users\" table in the \"stackoverflow\" dataset\n",
        "user_table.schema"
      ],
      "execution_count": null,
      "outputs": [
        {
          "output_type": "execute_result",
          "data": {
            "text/plain": [
              "[SchemaField('id', 'INTEGER', 'NULLABLE', None, ()),\n",
              " SchemaField('display_name', 'STRING', 'NULLABLE', None, ()),\n",
              " SchemaField('about_me', 'STRING', 'NULLABLE', None, ()),\n",
              " SchemaField('age', 'STRING', 'NULLABLE', None, ()),\n",
              " SchemaField('creation_date', 'TIMESTAMP', 'NULLABLE', None, ()),\n",
              " SchemaField('last_access_date', 'TIMESTAMP', 'NULLABLE', None, ()),\n",
              " SchemaField('location', 'STRING', 'NULLABLE', None, ()),\n",
              " SchemaField('reputation', 'INTEGER', 'NULLABLE', None, ()),\n",
              " SchemaField('up_votes', 'INTEGER', 'NULLABLE', None, ()),\n",
              " SchemaField('down_votes', 'INTEGER', 'NULLABLE', None, ()),\n",
              " SchemaField('views', 'INTEGER', 'NULLABLE', None, ()),\n",
              " SchemaField('profile_image_url', 'STRING', 'NULLABLE', None, ()),\n",
              " SchemaField('website_url', 'STRING', 'NULLABLE', None, ())]"
            ]
          },
          "metadata": {
            "tags": []
          },
          "execution_count": 9
        }
      ]
    },
    {
      "cell_type": "markdown",
      "metadata": {
        "papermill": {
          "duration": 0.011316,
          "end_time": "2020-10-01T00:23:02.212585",
          "exception": false,
          "start_time": "2020-10-01T00:23:02.201269",
          "status": "completed"
        },
        "tags": [],
        "id": "yXNqDr_U5Npd"
      },
      "source": [
        "Each [`SchemaField`](https://googleapis.github.io/google-cloud-python/latest/bigquery/generated/google.cloud.bigquery.schema.SchemaField.html#google.cloud.bigquery.schema.SchemaField) tells us about a specific column (which we also refer to as a **field**). In order, the information is:\n",
        "\n",
        "* The **name** of the column\n",
        "* The **field type** (or datatype) in the column\n",
        "* The **mode** of the column (`'NULLABLE'` means that a column allows NULL values, and is the default)\n",
        "* A **description** of the data in that column\n",
        "\n",
        "We can use the [`list_rows()`](https://google-cloud.readthedocs.io/en/latest/bigquery/generated/google.cloud.bigquery.client.Client.list_rows.html#google.cloud.bigquery.client.Client.list_rows) method to check just the first five lines of the `users` table to make sure this is right. (Sometimes databases have outdated descriptions, so it's good to check.)  This returns a BigQuery [`RowIterator`](https://googleapis.github.io/google-cloud-python/latest/bigquery/generated/google.cloud.bigquery.table.RowIterator.html) object that can quickly be converted to a pandas DataFrame with the [`to_dataframe()`](https://google-cloud.readthedocs.io/en/latest/bigquery/generated/google.cloud.bigquery.table.RowIterator.to_dataframe.html) method."
      ]
    },
    {
      "cell_type": "markdown",
      "metadata": {
        "id": "zGCJfNwtDNtI"
      },
      "source": [
        "# Table schema\n",
        "\n",
        "The structure of a table is called its **schema**.  We need to understand a table's schema to effectively pull out the data we want. \n",
        "\n",
        "In this example, we'll investigate the `users` table that we fetched above."
      ]
    },
    {
      "cell_type": "markdown",
      "metadata": {
        "id": "0Y_GcvauERuR"
      },
      "source": [
        "# Querying for Stackoverflow users\n",
        "\n",
        "We extract the id of users having been active within 2020, has a reputation above 10000, a public location and _about me_ section."
      ]
    },
    {
      "cell_type": "code",
      "metadata": {
        "id": "y6R49hC3A4VB",
        "colab": {
          "base_uri": "https://localhost:8080/",
          "height": 360
        },
        "outputId": "08227725-d1b4-4461-89e3-6a59c8140686"
      },
      "source": [
        "# Your code here\n",
        "users_query = \"\"\"\n",
        "                  SELECT\n",
        "                  id, reputation, display_name, creation_date, location, last_access_date,\n",
        "                  about_me, views, up_votes, down_votes\n",
        "\n",
        "                  FROM \n",
        "                  `bigquery-public-data.stackoverflow.users`\n",
        "\n",
        "                  WHERE last_access_date >= '2018-01-01 00:00:00' AND location IS NOT NULL\n",
        "                     \n",
        "                      \n",
        "                  ORDER BY reputation DESC\n",
        "                  \"\"\"\n",
        "\n",
        "# Set up the query (cancel the query if it would use too much of \n",
        "# your quota, with the limit set to 1 GB)\n",
        "safe_config = bigquery.QueryJobConfig(maximum_bytes_billed=10**10)\n",
        "users_query_job = client.query(users_query, job_config=safe_config) # Your code goes here\n",
        "\n",
        "# API request - run the query, and return a pandas DataFrame\n",
        "users = users_query_job.to_dataframe() # Your code goes here\n",
        "\n",
        "# Preview results\n",
        "users.head()"
      ],
      "execution_count": null,
      "outputs": [
        {
          "output_type": "execute_result",
          "data": {
            "text/html": [
              "<div>\n",
              "<style scoped>\n",
              "    .dataframe tbody tr th:only-of-type {\n",
              "        vertical-align: middle;\n",
              "    }\n",
              "\n",
              "    .dataframe tbody tr th {\n",
              "        vertical-align: top;\n",
              "    }\n",
              "\n",
              "    .dataframe thead th {\n",
              "        text-align: right;\n",
              "    }\n",
              "</style>\n",
              "<table border=\"1\" class=\"dataframe\">\n",
              "  <thead>\n",
              "    <tr style=\"text-align: right;\">\n",
              "      <th></th>\n",
              "      <th>id</th>\n",
              "      <th>reputation</th>\n",
              "      <th>display_name</th>\n",
              "      <th>creation_date</th>\n",
              "      <th>location</th>\n",
              "      <th>last_access_date</th>\n",
              "      <th>about_me</th>\n",
              "      <th>views</th>\n",
              "      <th>up_votes</th>\n",
              "      <th>down_votes</th>\n",
              "    </tr>\n",
              "  </thead>\n",
              "  <tbody>\n",
              "    <tr>\n",
              "      <th>0</th>\n",
              "      <td>22656</td>\n",
              "      <td>1206038</td>\n",
              "      <td>Jon Skeet</td>\n",
              "      <td>2008-09-26 12:05:05.150000+00:00</td>\n",
              "      <td>Reading, United Kingdom</td>\n",
              "      <td>2020-09-05 17:32:07.613000+00:00</td>\n",
              "      <td>&lt;p&gt;\\nAuthor of &lt;a href=\"https://www.manning.co...</td>\n",
              "      <td>1972774</td>\n",
              "      <td>16633</td>\n",
              "      <td>7090</td>\n",
              "    </tr>\n",
              "    <tr>\n",
              "      <th>1</th>\n",
              "      <td>1144035</td>\n",
              "      <td>1006490</td>\n",
              "      <td>Gordon Linoff</td>\n",
              "      <td>2012-01-11 19:53:57.590000+00:00</td>\n",
              "      <td>New York, United States</td>\n",
              "      <td>2020-09-06 02:21:13.123000+00:00</td>\n",
              "      <td>&lt;p&gt;Check out my book &lt;strong&gt;&lt;em&gt;&lt;a href=\"http...</td>\n",
              "      <td>336960</td>\n",
              "      <td>17283</td>\n",
              "      <td>42</td>\n",
              "    </tr>\n",
              "    <tr>\n",
              "      <th>2</th>\n",
              "      <td>6309</td>\n",
              "      <td>979770</td>\n",
              "      <td>VonC</td>\n",
              "      <td>2008-09-13 22:22:33.173000+00:00</td>\n",
              "      <td>France</td>\n",
              "      <td>2020-09-06 05:10:37.823000+00:00</td>\n",
              "      <td>&lt;ul&gt;\\n&lt;li&gt;&lt;p&gt;&lt;img src=\"http://i.stack.imgur.co...</td>\n",
              "      <td>185652</td>\n",
              "      <td>56359</td>\n",
              "      <td>295</td>\n",
              "    </tr>\n",
              "    <tr>\n",
              "      <th>3</th>\n",
              "      <td>157882</td>\n",
              "      <td>949855</td>\n",
              "      <td>BalusC</td>\n",
              "      <td>2009-08-17 16:42:02.403000+00:00</td>\n",
              "      <td>Willemstad, Curaçao</td>\n",
              "      <td>2020-09-05 23:05:35.913000+00:00</td>\n",
              "      <td>&lt;p&gt;A &lt;a href=\"https://balusc.zeef.com\" rel=\"no...</td>\n",
              "      <td>438873</td>\n",
              "      <td>15531</td>\n",
              "      <td>22108</td>\n",
              "    </tr>\n",
              "    <tr>\n",
              "      <th>4</th>\n",
              "      <td>29407</td>\n",
              "      <td>927319</td>\n",
              "      <td>Darin Dimitrov</td>\n",
              "      <td>2008-10-19 16:07:47.823000+00:00</td>\n",
              "      <td>Sofia, Bulgaria</td>\n",
              "      <td>2020-09-03 10:50:38.807000+00:00</td>\n",
              "      <td>&lt;p&gt;I love writing code and I am really passion...</td>\n",
              "      <td>269811</td>\n",
              "      <td>1955</td>\n",
              "      <td>2651</td>\n",
              "    </tr>\n",
              "  </tbody>\n",
              "</table>\n",
              "</div>"
            ],
            "text/plain": [
              "        id  reputation    display_name  ...    views up_votes down_votes\n",
              "0    22656     1206038       Jon Skeet  ...  1972774    16633       7090\n",
              "1  1144035     1006490   Gordon Linoff  ...   336960    17283         42\n",
              "2     6309      979770            VonC  ...   185652    56359        295\n",
              "3   157882      949855          BalusC  ...   438873    15531      22108\n",
              "4    29407      927319  Darin Dimitrov  ...   269811     1955       2651\n",
              "\n",
              "[5 rows x 10 columns]"
            ]
          },
          "metadata": {
            "tags": []
          },
          "execution_count": 10
        }
      ]
    },
    {
      "cell_type": "code",
      "metadata": {
        "colab": {
          "base_uri": "https://localhost:8080/"
        },
        "id": "aTD-HAB4Js6T",
        "outputId": "9da49e6a-0250-4636-ab50-21db4e294f65"
      },
      "source": [
        "len(users)"
      ],
      "execution_count": null,
      "outputs": [
        {
          "output_type": "execute_result",
          "data": {
            "text/plain": [
              "2661635"
            ]
          },
          "metadata": {
            "tags": []
          },
          "execution_count": 11
        }
      ]
    },
    {
      "cell_type": "code",
      "metadata": {
        "colab": {
          "base_uri": "https://localhost:8080/",
          "height": 34
        },
        "id": "tiRMAf9tPvwE",
        "outputId": "a759ad54-28c0-4e56-e6db-807752d377c7"
      },
      "source": [
        "from google.colab import files\n",
        "users.to_csv(\"complete_users.csv\")\n",
        "files.download(\"complete_users.csv\")"
      ],
      "execution_count": null,
      "outputs": [
        {
          "output_type": "display_data",
          "data": {
            "application/javascript": [
              "\n",
              "    async function download(id, filename, size) {\n",
              "      if (!google.colab.kernel.accessAllowed) {\n",
              "        return;\n",
              "      }\n",
              "      const div = document.createElement('div');\n",
              "      const label = document.createElement('label');\n",
              "      label.textContent = `Downloading \"${filename}\": `;\n",
              "      div.appendChild(label);\n",
              "      const progress = document.createElement('progress');\n",
              "      progress.max = size;\n",
              "      div.appendChild(progress);\n",
              "      document.body.appendChild(div);\n",
              "\n",
              "      const buffers = [];\n",
              "      let downloaded = 0;\n",
              "\n",
              "      const channel = await google.colab.kernel.comms.open(id);\n",
              "      // Send a message to notify the kernel that we're ready.\n",
              "      channel.send({})\n",
              "\n",
              "      for await (const message of channel.messages) {\n",
              "        // Send a message to notify the kernel that we're ready.\n",
              "        channel.send({})\n",
              "        if (message.buffers) {\n",
              "          for (const buffer of message.buffers) {\n",
              "            buffers.push(buffer);\n",
              "            downloaded += buffer.byteLength;\n",
              "            progress.value = downloaded;\n",
              "          }\n",
              "        }\n",
              "      }\n",
              "      const blob = new Blob(buffers, {type: 'application/binary'});\n",
              "      const a = document.createElement('a');\n",
              "      a.href = window.URL.createObjectURL(blob);\n",
              "      a.download = filename;\n",
              "      div.appendChild(a);\n",
              "      a.click();\n",
              "      div.remove();\n",
              "    }\n",
              "  "
            ],
            "text/plain": [
              "<IPython.core.display.Javascript object>"
            ]
          },
          "metadata": {
            "tags": []
          }
        },
        {
          "output_type": "display_data",
          "data": {
            "application/javascript": [
              "download(\"download_d7c3173e-7682-4f7f-af99-a88d6324c225\", \"complete_users.csv\", 481485460)"
            ],
            "text/plain": [
              "<IPython.core.display.Javascript object>"
            ]
          },
          "metadata": {
            "tags": []
          }
        }
      ]
    },
    {
      "cell_type": "markdown",
      "metadata": {
        "id": "NCPy7mANE5Jc"
      },
      "source": [
        "# Querying for Questions posted on Stackoverflow\n",
        "\n",
        "\n"
      ]
    },
    {
      "cell_type": "code",
      "metadata": {
        "id": "jjGtY26ROt0S"
      },
      "source": [
        "# Construct a reference to the \"posts_questions\" table\n",
        "table_ref = dataset_ref.table(\"posts_questions\")\n",
        "\n",
        "# API request - fetch the table\n",
        "postsQ_table = client.get_table(table_ref)"
      ],
      "execution_count": null,
      "outputs": []
    },
    {
      "cell_type": "code",
      "metadata": {
        "id": "rMFXhCrfO7XY",
        "colab": {
          "base_uri": "https://localhost:8080/"
        },
        "outputId": "69fa2e99-e7ac-4699-b838-26a84adba1df"
      },
      "source": [
        "postsQ_table.schema"
      ],
      "execution_count": null,
      "outputs": [
        {
          "output_type": "execute_result",
          "data": {
            "text/plain": [
              "[SchemaField('id', 'INTEGER', 'NULLABLE', None, ()),\n",
              " SchemaField('title', 'STRING', 'NULLABLE', None, ()),\n",
              " SchemaField('body', 'STRING', 'NULLABLE', None, ()),\n",
              " SchemaField('accepted_answer_id', 'INTEGER', 'NULLABLE', None, ()),\n",
              " SchemaField('answer_count', 'INTEGER', 'NULLABLE', None, ()),\n",
              " SchemaField('comment_count', 'INTEGER', 'NULLABLE', None, ()),\n",
              " SchemaField('community_owned_date', 'TIMESTAMP', 'NULLABLE', None, ()),\n",
              " SchemaField('creation_date', 'TIMESTAMP', 'NULLABLE', None, ()),\n",
              " SchemaField('favorite_count', 'INTEGER', 'NULLABLE', None, ()),\n",
              " SchemaField('last_activity_date', 'TIMESTAMP', 'NULLABLE', None, ()),\n",
              " SchemaField('last_edit_date', 'TIMESTAMP', 'NULLABLE', None, ()),\n",
              " SchemaField('last_editor_display_name', 'STRING', 'NULLABLE', None, ()),\n",
              " SchemaField('last_editor_user_id', 'INTEGER', 'NULLABLE', None, ()),\n",
              " SchemaField('owner_display_name', 'STRING', 'NULLABLE', None, ()),\n",
              " SchemaField('owner_user_id', 'INTEGER', 'NULLABLE', None, ()),\n",
              " SchemaField('parent_id', 'STRING', 'NULLABLE', None, ()),\n",
              " SchemaField('post_type_id', 'INTEGER', 'NULLABLE', None, ()),\n",
              " SchemaField('score', 'INTEGER', 'NULLABLE', None, ()),\n",
              " SchemaField('tags', 'STRING', 'NULLABLE', None, ()),\n",
              " SchemaField('view_count', 'INTEGER', 'NULLABLE', None, ())]"
            ]
          },
          "metadata": {
            "tags": []
          },
          "execution_count": 13
        }
      ]
    },
    {
      "cell_type": "code",
      "metadata": {
        "id": "8lTjZdY-FU5p",
        "colab": {
          "base_uri": "https://localhost:8080/",
          "height": 700
        },
        "outputId": "12b54a20-c7f0-4ab8-e47d-62cab47bfd0e"
      },
      "source": [
        "# Your code here\n",
        "postsq_query = \"\"\"\n",
        "                  SELECT q.id, q.title, q.body, q.accepted_answer_id, q.answer_count, q.comment_count, q.owner_user_id,\n",
        "                  q.score, q.tags, q.view_count\n",
        "\n",
        "                  FROM\n",
        "                  `bigquery-public-data.stackoverflow.posts_questions` as q\n",
        "                  INNER JOIN\n",
        "                  `bigquery-public-data.stackoverflow.users` as u\n",
        "                  ON \n",
        "                  u.id = q.owner_user_id\n",
        "\n",
        "                  WHERE q.creation_date >= '2019-01-01 00:00:00' AND q.accepted_answer_id IS NOT NULL \n",
        "                  AND q.view_count > 100 AND (q.tags LIKE 'python%' OR q.tags LIKE 'java%' OR q.tags LIKE 'c++'\n",
        "                  OR q.tags LIKE '%sql' OR q.tags LIKE '.net' OR q.tags LIKE 'php' OR q.tags LIKE 'c#')                \n",
        "                  \"\"\"\n",
        "\n",
        "# Set up the query (cancel the query if it would use too much of \n",
        "# your quota, with the limit set to 2 GB)\n",
        "safe_config = bigquery.QueryJobConfig(maximum_bytes_billed=20**10)\n",
        "postsq_query_job = client.query(postsq_query, job_config=safe_config) # Your code goes here\n",
        "\n",
        "# API request - run the query, and return a pandas DataFrame\n",
        "postsQ = postsq_query_job.to_dataframe() # Your code goes here\n",
        "\n",
        "# Preview results\n",
        "postsQ.head()"
      ],
      "execution_count": null,
      "outputs": [
        {
          "output_type": "execute_result",
          "data": {
            "text/html": [
              "<div>\n",
              "<style scoped>\n",
              "    .dataframe tbody tr th:only-of-type {\n",
              "        vertical-align: middle;\n",
              "    }\n",
              "\n",
              "    .dataframe tbody tr th {\n",
              "        vertical-align: top;\n",
              "    }\n",
              "\n",
              "    .dataframe thead th {\n",
              "        text-align: right;\n",
              "    }\n",
              "</style>\n",
              "<table border=\"1\" class=\"dataframe\">\n",
              "  <thead>\n",
              "    <tr style=\"text-align: right;\">\n",
              "      <th></th>\n",
              "      <th>id</th>\n",
              "      <th>title</th>\n",
              "      <th>body</th>\n",
              "      <th>accepted_answer_id</th>\n",
              "      <th>answer_count</th>\n",
              "      <th>comment_count</th>\n",
              "      <th>owner_user_id</th>\n",
              "      <th>score</th>\n",
              "      <th>tags</th>\n",
              "      <th>view_count</th>\n",
              "    </tr>\n",
              "  </thead>\n",
              "  <tbody>\n",
              "    <tr>\n",
              "      <th>0</th>\n",
              "      <td>57526029</td>\n",
              "      <td>NodeJS Instagram private API client in react JS</td>\n",
              "      <td>&lt;p&gt;I am facing an issue I am new in react and ...</td>\n",
              "      <td>57527975</td>\n",
              "      <td>1</td>\n",
              "      <td>0</td>\n",
              "      <td>7354214</td>\n",
              "      <td>-5</td>\n",
              "      <td>javascript|jquery|node.js|ajax|reactjs</td>\n",
              "      <td>358</td>\n",
              "    </tr>\n",
              "    <tr>\n",
              "      <th>1</th>\n",
              "      <td>59767726</td>\n",
              "      <td>why I have HTTP 403 from repo spring?</td>\n",
              "      <td>&lt;p&gt;I have a jhipster project which deploy on h...</td>\n",
              "      <td>60084538</td>\n",
              "      <td>3</td>\n",
              "      <td>2</td>\n",
              "      <td>1450740</td>\n",
              "      <td>13</td>\n",
              "      <td>java|spring|gitlab|jhipster</td>\n",
              "      <td>2659</td>\n",
              "    </tr>\n",
              "    <tr>\n",
              "      <th>2</th>\n",
              "      <td>57643277</td>\n",
              "      <td>Why does this method call on a null object run...</td>\n",
              "      <td>&lt;p&gt;What is the reason for the output? I know i...</td>\n",
              "      <td>57643309</td>\n",
              "      <td>4</td>\n",
              "      <td>0</td>\n",
              "      <td>8557287</td>\n",
              "      <td>11</td>\n",
              "      <td>java</td>\n",
              "      <td>459</td>\n",
              "    </tr>\n",
              "    <tr>\n",
              "      <th>3</th>\n",
              "      <td>57964817</td>\n",
              "      <td>Pass a function to a web worker that uses a we...</td>\n",
              "      <td>&lt;p&gt;I want to pass a simple function to a web w...</td>\n",
              "      <td>58120752</td>\n",
              "      <td>1</td>\n",
              "      <td>6</td>\n",
              "      <td>2032384</td>\n",
              "      <td>8</td>\n",
              "      <td>javascript|webpack|import|module|web-worker</td>\n",
              "      <td>389</td>\n",
              "    </tr>\n",
              "    <tr>\n",
              "      <th>4</th>\n",
              "      <td>60169996</td>\n",
              "      <td>Does a \"with\" statement support type hinting?</td>\n",
              "      <td>&lt;p&gt;Can you define the type hint for a variable...</td>\n",
              "      <td>60170752</td>\n",
              "      <td>2</td>\n",
              "      <td>10</td>\n",
              "      <td>1031569</td>\n",
              "      <td>18</td>\n",
              "      <td>python|python-3.x|type-hinting</td>\n",
              "      <td>911</td>\n",
              "    </tr>\n",
              "  </tbody>\n",
              "</table>\n",
              "</div>"
            ],
            "text/plain": [
              "         id  ... view_count\n",
              "0  57526029  ...        358\n",
              "1  59767726  ...       2659\n",
              "2  57643277  ...        459\n",
              "3  57964817  ...        389\n",
              "4  60169996  ...        911\n",
              "\n",
              "[5 rows x 10 columns]"
            ]
          },
          "metadata": {
            "tags": []
          },
          "execution_count": 25
        }
      ]
    },
    {
      "cell_type": "code",
      "metadata": {
        "colab": {
          "base_uri": "https://localhost:8080/"
        },
        "id": "O0LD2DN_sq1b",
        "outputId": "25954c26-7252-4535-ab53-fdaee530e177"
      },
      "source": [
        "len(postsQ)"
      ],
      "execution_count": null,
      "outputs": [
        {
          "output_type": "execute_result",
          "data": {
            "text/plain": [
              "145317"
            ]
          },
          "metadata": {
            "tags": []
          },
          "execution_count": 26
        }
      ]
    },
    {
      "cell_type": "code",
      "metadata": {
        "colab": {
          "base_uri": "https://localhost:8080/"
        },
        "id": "rImRsVtSI-7N",
        "outputId": "d45758af-7e02-46f9-f32d-69b4f387a6ce"
      },
      "source": [
        "set1 = set(users['id'])\n",
        "set2 = set(postsQ['owner_user_id'])\n",
        "len(set1.intersection(set2))"
      ],
      "execution_count": null,
      "outputs": [
        {
          "output_type": "execute_result",
          "data": {
            "text/plain": [
              "107772"
            ]
          },
          "metadata": {
            "tags": []
          },
          "execution_count": 50
        }
      ]
    },
    {
      "cell_type": "markdown",
      "metadata": {
        "id": "RSj-ZVAOKUyI"
      },
      "source": [
        "# Query for Answers to Question on Stackoverflow"
      ]
    },
    {
      "cell_type": "code",
      "metadata": {
        "id": "xVtqh-QYgLeA"
      },
      "source": [
        "# Construct a reference to the \"posts_answers\" table\n",
        "table_ref = dataset_ref.table(\"posts_answers\")\n",
        "\n",
        "# API request - fetch the table\n",
        "postsA_table = client.get_table(table_ref)"
      ],
      "execution_count": null,
      "outputs": []
    },
    {
      "cell_type": "code",
      "metadata": {
        "id": "y0qxLAlegQLm",
        "colab": {
          "base_uri": "https://localhost:8080/"
        },
        "outputId": "66d1983f-35ff-4914-d5bc-b9818503b8f3"
      },
      "source": [
        "postsA_table.schema"
      ],
      "execution_count": null,
      "outputs": [
        {
          "output_type": "execute_result",
          "data": {
            "text/plain": [
              "[SchemaField('id', 'INTEGER', 'NULLABLE', None, ()),\n",
              " SchemaField('title', 'STRING', 'NULLABLE', None, ()),\n",
              " SchemaField('body', 'STRING', 'NULLABLE', None, ()),\n",
              " SchemaField('accepted_answer_id', 'STRING', 'NULLABLE', None, ()),\n",
              " SchemaField('answer_count', 'STRING', 'NULLABLE', None, ()),\n",
              " SchemaField('comment_count', 'INTEGER', 'NULLABLE', None, ()),\n",
              " SchemaField('community_owned_date', 'TIMESTAMP', 'NULLABLE', None, ()),\n",
              " SchemaField('creation_date', 'TIMESTAMP', 'NULLABLE', None, ()),\n",
              " SchemaField('favorite_count', 'STRING', 'NULLABLE', None, ()),\n",
              " SchemaField('last_activity_date', 'TIMESTAMP', 'NULLABLE', None, ()),\n",
              " SchemaField('last_edit_date', 'TIMESTAMP', 'NULLABLE', None, ()),\n",
              " SchemaField('last_editor_display_name', 'STRING', 'NULLABLE', None, ()),\n",
              " SchemaField('last_editor_user_id', 'INTEGER', 'NULLABLE', None, ()),\n",
              " SchemaField('owner_display_name', 'STRING', 'NULLABLE', None, ()),\n",
              " SchemaField('owner_user_id', 'INTEGER', 'NULLABLE', None, ()),\n",
              " SchemaField('parent_id', 'INTEGER', 'NULLABLE', None, ()),\n",
              " SchemaField('post_type_id', 'INTEGER', 'NULLABLE', None, ()),\n",
              " SchemaField('score', 'INTEGER', 'NULLABLE', None, ()),\n",
              " SchemaField('tags', 'STRING', 'NULLABLE', None, ()),\n",
              " SchemaField('view_count', 'STRING', 'NULLABLE', None, ())]"
            ]
          },
          "metadata": {
            "tags": []
          },
          "execution_count": 20
        }
      ]
    },
    {
      "cell_type": "code",
      "metadata": {
        "id": "4YmZWJcLgXmp"
      },
      "source": [
        "# Your code here\n",
        "postsa_query = \"\"\"\n",
        "                  SELECT a.id, a.body, a.comment_count, a.owner_user_id, a.parent_id, a.score\n",
        "\n",
        "                  FROM `bigquery-public-data.stackoverflow.posts_answers` as a\n",
        "                  INNER JOIN `bigquery-public-data.stackoverflow.users` as u\n",
        "                      ON u.id = a.owner_user_id\n",
        "                  WHERE u.last_access_date >= '2020-08-01 00:00:00' AND u.reputation > 10000\n",
        "                  AND u.location IS NOT NULL AND u.about_me IS NOT NULL \n",
        "                  \"\"\"\n",
        "\n",
        "# Set up the query (cancel the query if it would use too much of \n",
        "# your quota, with the limit set to 2 GB)\n",
        "safe_config = bigquery.QueryJobConfig(maximum_bytes_billed=20**10)\n",
        "postsa_query_job = client.query(postsa_query, job_config=safe_config) # Your code goes here\n",
        "\n",
        "# API request - run the query, and return a pandas DataFrame\n",
        "postsA = postsa_query_job.to_dataframe() # Your code goes here\n",
        "\n",
        "# Preview results\n",
        "postsA.head()"
      ],
      "execution_count": null,
      "outputs": []
    },
    {
      "cell_type": "code",
      "metadata": {
        "colab": {
          "base_uri": "https://localhost:8080/"
        },
        "id": "FpklOmM1ZDZr",
        "outputId": "2a8f8b0e-148a-4fe0-fe6d-5eb43bcddeb5"
      },
      "source": [
        "len(postsA)"
      ],
      "execution_count": null,
      "outputs": [
        {
          "output_type": "execute_result",
          "data": {
            "text/plain": [
              "13621"
            ]
          },
          "metadata": {
            "tags": []
          },
          "execution_count": 23
        }
      ]
    },
    {
      "cell_type": "code",
      "metadata": {
        "id": "7nDYJseEpPo2",
        "colab": {
          "base_uri": "https://localhost:8080/"
        },
        "outputId": "d398e735-7a71-471e-b7fe-c7af8c644cc8"
      },
      "source": [
        "len(postsA[\"owner_user_id\"].unique())"
      ],
      "execution_count": null,
      "outputs": [
        {
          "output_type": "execute_result",
          "data": {
            "text/plain": [
              "6400"
            ]
          },
          "metadata": {
            "tags": []
          },
          "execution_count": 74
        }
      ]
    },
    {
      "cell_type": "code",
      "metadata": {
        "id": "-tdYfAZfn-jN"
      },
      "source": [
        "list1 = list(postsQ['id'])\n",
        "list2 = list(postsA['parent_id'])"
      ],
      "execution_count": null,
      "outputs": []
    },
    {
      "cell_type": "code",
      "metadata": {
        "id": "QnOluPIHqVod"
      },
      "source": [
        "results = {}\n",
        "for i in list1:\n",
        "        results[i] = list2.count(i)"
      ],
      "execution_count": null,
      "outputs": []
    },
    {
      "cell_type": "code",
      "metadata": {
        "colab": {
          "base_uri": "https://localhost:8080/"
        },
        "id": "9rOjkyldsnjP",
        "outputId": "f89d6ae4-61e6-4e18-c24d-a1bd255c41c7"
      },
      "source": [
        "sum(results.values())"
      ],
      "execution_count": null,
      "outputs": [
        {
          "output_type": "execute_result",
          "data": {
            "text/plain": [
              "576"
            ]
          },
          "metadata": {
            "tags": []
          },
          "execution_count": 81
        }
      ]
    },
    {
      "cell_type": "code",
      "metadata": {
        "colab": {
          "base_uri": "https://localhost:8080/"
        },
        "id": "ylEFTO3tM6hh",
        "outputId": "f4ad8790-420c-4a72-96d0-10cff4978d99"
      },
      "source": [
        "set1 = set(postsQ['id'])\n",
        "set2 = set(postsA['parent_id'])\n",
        "len(set1.intersection(set2))"
      ],
      "execution_count": null,
      "outputs": [
        {
          "output_type": "execute_result",
          "data": {
            "text/plain": [
              "114"
            ]
          },
          "metadata": {
            "tags": []
          },
          "execution_count": 75
        }
      ]
    },
    {
      "cell_type": "code",
      "metadata": {
        "id": "eYUJ5N5nz-TX"
      },
      "source": [
        "import networkx as nx"
      ],
      "execution_count": null,
      "outputs": []
    },
    {
      "cell_type": "code",
      "metadata": {
        "id": "cyTWlzWczEmL"
      },
      "source": [
        "G = nx.DiGraph()\n",
        "for ind in postsQ.index:\n",
        "  for i in postsA[postsA['parent_id'] == postsQ[\"id\"][ind]].index:\n",
        "    if len(postsA[postsA['parent_id'] == postsQ[\"id\"][ind]].index) > 1:\n",
        "      G.add_edge(postsQ[\"owner_user_id\"][ind],postsA[\"owner_user_id\"][i])\n",
        "    else: \n",
        "      pass"
      ],
      "execution_count": null,
      "outputs": []
    },
    {
      "cell_type": "code",
      "metadata": {
        "colab": {
          "base_uri": "https://localhost:8080/"
        },
        "id": "hKYb5A8N2jHk",
        "outputId": "ad75713d-742e-4bcc-e950-e85b26860e57"
      },
      "source": [
        "G.number_of_nodes()"
      ],
      "execution_count": null,
      "outputs": [
        {
          "output_type": "execute_result",
          "data": {
            "text/plain": [
              "0"
            ]
          },
          "metadata": {
            "tags": []
          },
          "execution_count": 102
        }
      ]
    },
    {
      "cell_type": "code",
      "metadata": {
        "colab": {
          "base_uri": "https://localhost:8080/"
        },
        "id": "YXJAd-aE2mJM",
        "outputId": "10a7f5d3-53a8-4200-8e69-d6e759756cbd"
      },
      "source": [
        "G.number_of_edges()"
      ],
      "execution_count": null,
      "outputs": [
        {
          "output_type": "execute_result",
          "data": {
            "text/plain": [
              "0"
            ]
          },
          "metadata": {
            "tags": []
          },
          "execution_count": 103
        }
      ]
    },
    {
      "cell_type": "code",
      "metadata": {
        "id": "pPlToOHz1-H1"
      },
      "source": [
        "#Removing Isolates\n",
        "for i in list(nx.isolates(G)):\n",
        "    G.remove_node(i)"
      ],
      "execution_count": null,
      "outputs": []
    },
    {
      "cell_type": "code",
      "metadata": {
        "colab": {
          "base_uri": "https://localhost:8080/",
          "height": 181
        },
        "id": "p-qupgx32Am1",
        "outputId": "f734e1db-4494-47be-9cbb-a1c4220b163c"
      },
      "source": [
        "#getting the largest connected network\n",
        "largest_cc = max(nx.weakly_connected_components(G))"
      ],
      "execution_count": null,
      "outputs": [
        {
          "output_type": "error",
          "ename": "ValueError",
          "evalue": "ignored",
          "traceback": [
            "\u001b[0;31m---------------------------------------------------------------------------\u001b[0m",
            "\u001b[0;31mValueError\u001b[0m                                Traceback (most recent call last)",
            "\u001b[0;32m<ipython-input-105-76cf9da0967b>\u001b[0m in \u001b[0;36m<module>\u001b[0;34m()\u001b[0m\n\u001b[1;32m      1\u001b[0m \u001b[0;31m#getting the largest connected network\u001b[0m\u001b[0;34m\u001b[0m\u001b[0;34m\u001b[0m\u001b[0;34m\u001b[0m\u001b[0m\n\u001b[0;32m----> 2\u001b[0;31m \u001b[0mlargest_cc\u001b[0m \u001b[0;34m=\u001b[0m \u001b[0mmax\u001b[0m\u001b[0;34m(\u001b[0m\u001b[0mnx\u001b[0m\u001b[0;34m.\u001b[0m\u001b[0mweakly_connected_components\u001b[0m\u001b[0;34m(\u001b[0m\u001b[0mG\u001b[0m\u001b[0;34m)\u001b[0m\u001b[0;34m)\u001b[0m\u001b[0;34m\u001b[0m\u001b[0;34m\u001b[0m\u001b[0m\n\u001b[0m",
            "\u001b[0;31mValueError\u001b[0m: max() arg is an empty sequence"
          ]
        }
      ]
    },
    {
      "cell_type": "code",
      "metadata": {
        "id": "smxrnxX72Dps"
      },
      "source": [
        "#creating the subgraph\n",
        "G_1 = G.subgraph(largest_cc ).copy()"
      ],
      "execution_count": null,
      "outputs": []
    },
    {
      "cell_type": "code",
      "metadata": {
        "id": "D5W2WSMn2G1w"
      },
      "source": [
        "# making graph undirected\n",
        "G_2 = G_1.to_undirected()"
      ],
      "execution_count": null,
      "outputs": []
    },
    {
      "cell_type": "code",
      "metadata": {
        "colab": {
          "base_uri": "https://localhost:8080/"
        },
        "id": "bVWRId602do1",
        "outputId": "82fd9662-6277-488a-b036-3d7451c84d71"
      },
      "source": [
        "G_2.number_of_edges()"
      ],
      "execution_count": null,
      "outputs": [
        {
          "output_type": "execute_result",
          "data": {
            "text/plain": [
              "18"
            ]
          },
          "metadata": {
            "tags": []
          },
          "execution_count": 93
        }
      ]
    },
    {
      "cell_type": "code",
      "metadata": {
        "colab": {
          "base_uri": "https://localhost:8080/"
        },
        "id": "RF-1VlGY2gNn",
        "outputId": "b29850b2-a3a6-4c1d-d6cb-37cc8c3e563e"
      },
      "source": [
        "G_2.number_of_nodes()"
      ],
      "execution_count": null,
      "outputs": [
        {
          "output_type": "execute_result",
          "data": {
            "text/plain": [
              "19"
            ]
          },
          "metadata": {
            "tags": []
          },
          "execution_count": 94
        }
      ]
    },
    {
      "cell_type": "code",
      "metadata": {
        "id": "BKXu_QvI2TAG"
      },
      "source": [
        "#getting node size \n",
        "deg = []\n",
        "for i in G_2.nodes():\n",
        "    deg.append(G_2.degree[i])"
      ],
      "execution_count": null,
      "outputs": []
    },
    {
      "cell_type": "code",
      "metadata": {
        "colab": {
          "base_uri": "https://localhost:8080/",
          "height": 895
        },
        "id": "b4IK4T1t2KK0",
        "outputId": "ae5c0ba3-fc0f-4cc4-b92f-41ed839f98ff"
      },
      "source": [
        "import matplotlib.pyplot as plt\n",
        "\n",
        "pos = nx.kamada_kawai_layout(G_2)\n",
        "plt.figure(3, figsize = (12,12))\n",
        "#nodes = nx.draw_networkx_nodes(G_2, pos,node_size=10, node_color=res.values())\n",
        "#nodes.set_edgecolor('#000000')\n",
        "#nx.draw_networkx_edges(G_2, pos)\n",
        "nx.draw(G_2,pos, node_size = deg)\n",
        "plt.show()"
      ],
      "execution_count": null,
      "outputs": [
        {
          "output_type": "display_data",
          "data": {
            "image/png": "[encoded data removed]",
            "text/plain": [
              "<Figure size 864x864 with 1 Axes>"
            ]
          },
          "metadata": {
            "tags": []
          }
        }
      ]
    },
    {
      "cell_type": "markdown",
      "metadata": {
        "id": "Z4QkSMSV0nn3"
      },
      "source": [
        "# Query for Comments to Answers and Questions"
      ]
    },
    {
      "cell_type": "code",
      "metadata": {
        "id": "mD70Nqh_0tbi"
      },
      "source": [
        "# Construct a reference to the \"comments\" table\n",
        "table_ref = dataset_ref.table(\"comments\")\n",
        "\n",
        "# API request - fetch the table\n",
        "comments_table = client.get_table(table_ref)"
      ],
      "execution_count": null,
      "outputs": []
    },
    {
      "cell_type": "code",
      "metadata": {
        "colab": {
          "base_uri": "https://localhost:8080/"
        },
        "id": "hv9O6jWg2jlZ",
        "outputId": "9ad8d6ee-1d47-4bb1-dd9b-54e6cb63d2e5"
      },
      "source": [
        "comments_table.schema"
      ],
      "execution_count": null,
      "outputs": [
        {
          "output_type": "execute_result",
          "data": {
            "text/plain": [
              "[SchemaField('id', 'INTEGER', 'NULLABLE', None, ()),\n",
              " SchemaField('text', 'STRING', 'NULLABLE', None, ()),\n",
              " SchemaField('creation_date', 'TIMESTAMP', 'NULLABLE', None, ()),\n",
              " SchemaField('post_id', 'INTEGER', 'NULLABLE', None, ()),\n",
              " SchemaField('user_id', 'INTEGER', 'NULLABLE', None, ()),\n",
              " SchemaField('user_display_name', 'STRING', 'NULLABLE', None, ()),\n",
              " SchemaField('score', 'INTEGER', 'NULLABLE', None, ())]"
            ]
          },
          "metadata": {
            "tags": []
          },
          "execution_count": 33
        }
      ]
    },
    {
      "cell_type": "code",
      "metadata": {
        "id": "_9KL7xl0pLbp"
      },
      "source": [
        "# Your code here\n",
        "comments_query = \"\"\"\n",
        "                  SELECT c.id, c.text, c.post_id, c.user_id, c.score\n",
        "\n",
        "                  FROM\n",
        "                  `bigquery-public-data.stackoverflow.comments` as c\n",
        "                  INNER JOIN\n",
        "                  `bigquery-public-data.stackoverflow.users` as u\n",
        "                  ON \n",
        "                  u.id = c.user_id\n",
        "\n",
        "                  WHERE u.last_access_date >= '2020-08-01 00:00:00' AND u.reputation > 10000 AND \n",
        "                        u.location IS NOT NULL AND u.about_me IS NOT NULL                \n",
        "                  \"\"\"\n",
        "\n",
        "# Set up the query (cancel the query if it would use too much of \n",
        "# your quota, with the limit set to 2 GB)\n",
        "safe_config = bigquery.QueryJobConfig(maximum_bytes_billed=20**10)\n",
        "comments_query_job = client.query(comments_query, job_config=safe_config) # Your code goes here\n",
        "\n",
        "# API request - run the query, and return a pandas DataFrame\n",
        "comments = comments_query_job.to_dataframe() # Your code goes here\n",
        "\n",
        "# Preview results\n",
        "comments.head()"
      ],
      "execution_count": null,
      "outputs": []
    },
    {
      "cell_type": "code",
      "metadata": {
        "id": "1pbQ3wtj33a5"
      },
      "source": [
        ""
      ],
      "execution_count": null,
      "outputs": []
    },
    {
      "cell_type": "markdown",
      "metadata": {
        "id": "gzmI-oja333t"
      },
      "source": [
        "# Concatenate tables with Union"
      ]
    },
    {
      "cell_type": "code",
      "metadata": {
        "id": "I1J3ivkj3-Qp"
      },
      "source": [
        ""
      ],
      "execution_count": null,
      "outputs": []
    },
    {
      "cell_type": "code",
      "metadata": {
        "id": "YL1Bb9Knglhk",
        "colab": {
          "base_uri": "https://localhost:8080/"
        },
        "outputId": "348e664b-0849-490c-e56d-e5a6ecb82a19"
      },
      "source": [
        "postsA.dtypes"
      ],
      "execution_count": null,
      "outputs": [
        {
          "output_type": "execute_result",
          "data": {
            "text/plain": [
              "id                int64\n",
              "body             object\n",
              "comment_count     int64\n",
              "owner_user_id     int64\n",
              "parent_id         int64\n",
              "score             int64\n",
              "dtype: object"
            ]
          },
          "metadata": {
            "tags": []
          },
          "execution_count": 29
        }
      ]
    },
    {
      "cell_type": "code",
      "metadata": {
        "id": "FxUzPg-zczTn",
        "colab": {
          "base_uri": "https://localhost:8080/",
          "height": 615
        },
        "outputId": "b1ab8257-f475-4773-a235-4e89e3e6248b"
      },
      "source": [
        "postsQ = postsQ.dropna()\n",
        "postsQ['owner_user_id'] = postsQ['owner_user_id'].astype(int)\n",
        "postsQ.head()"
      ],
      "execution_count": null,
      "outputs": [
        {
          "output_type": "execute_result",
          "data": {
            "text/html": [
              "<div>\n",
              "<style scoped>\n",
              "    .dataframe tbody tr th:only-of-type {\n",
              "        vertical-align: middle;\n",
              "    }\n",
              "\n",
              "    .dataframe tbody tr th {\n",
              "        vertical-align: top;\n",
              "    }\n",
              "\n",
              "    .dataframe thead th {\n",
              "        text-align: right;\n",
              "    }\n",
              "</style>\n",
              "<table border=\"1\" class=\"dataframe\">\n",
              "  <thead>\n",
              "    <tr style=\"text-align: right;\">\n",
              "      <th></th>\n",
              "      <th>id</th>\n",
              "      <th>title</th>\n",
              "      <th>accepted_answer_id</th>\n",
              "      <th>answer_count</th>\n",
              "      <th>comment_count</th>\n",
              "      <th>owner_user_id</th>\n",
              "      <th>score</th>\n",
              "      <th>tags</th>\n",
              "      <th>view_count</th>\n",
              "    </tr>\n",
              "  </thead>\n",
              "  <tbody>\n",
              "    <tr>\n",
              "      <th>0</th>\n",
              "      <td>63560005</td>\n",
              "      <td>Draw curved lines to connect points in matplotlib</td>\n",
              "      <td>63561363</td>\n",
              "      <td>2</td>\n",
              "      <td>0</td>\n",
              "      <td>8995741</td>\n",
              "      <td>18</td>\n",
              "      <td>python|matplotlib</td>\n",
              "      <td>317</td>\n",
              "    </tr>\n",
              "    <tr>\n",
              "      <th>1</th>\n",
              "      <td>63565720</td>\n",
              "      <td>Check if number is divisible by a power of two</td>\n",
              "      <td>63565849</td>\n",
              "      <td>3</td>\n",
              "      <td>0</td>\n",
              "      <td>1129332</td>\n",
              "      <td>-12</td>\n",
              "      <td>java|algorithm|bit-manipulation</td>\n",
              "      <td>113</td>\n",
              "    </tr>\n",
              "    <tr>\n",
              "      <th>2</th>\n",
              "      <td>63443583</td>\n",
              "      <td>Seaborn ValueError: zero-size array to reducti...</td>\n",
              "      <td>63640434</td>\n",
              "      <td>2</td>\n",
              "      <td>0</td>\n",
              "      <td>5318986</td>\n",
              "      <td>10</td>\n",
              "      <td>python|pandas|seaborn</td>\n",
              "      <td>1213</td>\n",
              "    </tr>\n",
              "    <tr>\n",
              "      <th>3</th>\n",
              "      <td>63663362</td>\n",
              "      <td>Django, python3, on install I get: \"Parent mod...</td>\n",
              "      <td>63668592</td>\n",
              "      <td>5</td>\n",
              "      <td>0</td>\n",
              "      <td>971529</td>\n",
              "      <td>13</td>\n",
              "      <td>python|django|pip|virtualenv|setuptools</td>\n",
              "      <td>3558</td>\n",
              "    </tr>\n",
              "    <tr>\n",
              "      <th>4</th>\n",
              "      <td>63727290</td>\n",
              "      <td>Why doesn't Python give any error when quotes ...</td>\n",
              "      <td>63727364</td>\n",
              "      <td>3</td>\n",
              "      <td>1</td>\n",
              "      <td>14215946</td>\n",
              "      <td>27</td>\n",
              "      <td>python|python-3.x|string|quotes</td>\n",
              "      <td>2305</td>\n",
              "    </tr>\n",
              "  </tbody>\n",
              "</table>\n",
              "</div>"
            ],
            "text/plain": [
              "         id  ... view_count\n",
              "0  63560005  ...        317\n",
              "1  63565720  ...        113\n",
              "2  63443583  ...       1213\n",
              "3  63663362  ...       3558\n",
              "4  63727290  ...       2305\n",
              "\n",
              "[5 rows x 9 columns]"
            ]
          },
          "metadata": {
            "tags": []
          },
          "execution_count": 30
        }
      ]
    },
    {
      "cell_type": "code",
      "metadata": {
        "id": "b2a3NRaecbxQ"
      },
      "source": [
        "users_dict = users.set_index('id').to_dict('index')\n",
        "question = postsQ.set_index('id').to_dict('index')\n",
        "answers = postsA.set_index('id').to_dict('index')"
      ],
      "execution_count": null,
      "outputs": []
    },
    {
      "cell_type": "code",
      "metadata": {
        "id": "BS-HNEMdfD_u",
        "colab": {
          "base_uri": "https://localhost:8080/",
          "height": 164
        },
        "outputId": "18334c49-1a17-4229-dd27-dce7b357d718"
      },
      "source": [
        "question[61478227]"
      ],
      "execution_count": null,
      "outputs": [
        {
          "output_type": "error",
          "ename": "KeyError",
          "evalue": "ignored",
          "traceback": [
            "\u001b[0;31m---------------------------------------------------------------------------\u001b[0m",
            "\u001b[0;31mKeyError\u001b[0m                                  Traceback (most recent call last)",
            "\u001b[0;32m<ipython-input-44-ccc57e4658b6>\u001b[0m in \u001b[0;36m<module>\u001b[0;34m()\u001b[0m\n\u001b[0;32m----> 1\u001b[0;31m \u001b[0mquestion\u001b[0m\u001b[0;34m[\u001b[0m\u001b[0;36m61478227\u001b[0m\u001b[0;34m]\u001b[0m\u001b[0;34m\u001b[0m\u001b[0;34m\u001b[0m\u001b[0m\n\u001b[0m",
            "\u001b[0;31mKeyError\u001b[0m: 61478227"
          ]
        }
      ]
    },
    {
      "cell_type": "code",
      "metadata": {
        "id": "o2QSuXgfbqPh",
        "colab": {
          "base_uri": "https://localhost:8080/",
          "height": 232
        },
        "outputId": "735b8de4-aff0-4174-aedb-a2b2a8030434"
      },
      "source": [
        "links = dict()\n",
        "\n",
        "for index, row in postsA.iterrows():\n",
        "  if row['owner_user_id'] in users_dict.keys():\n",
        "    if row['owner_user_id'] in links.keys():\n",
        "      links[row['owner_user_id']].append(question[row['parent_id']]['owner_user_id'])\n",
        "    else:\n",
        "      if row['parent_id'] in question.keys():\n",
        "        links[row['owner_user_id']] = [question[row['parent_id']]['owner_user_id']]"
      ],
      "execution_count": null,
      "outputs": [
        {
          "output_type": "error",
          "ename": "KeyError",
          "evalue": "ignored",
          "traceback": [
            "\u001b[0;31m---------------------------------------------------------------------------\u001b[0m",
            "\u001b[0;31mKeyError\u001b[0m                                  Traceback (most recent call last)",
            "\u001b[0;32m<ipython-input-41-2f64d60a2bff>\u001b[0m in \u001b[0;36m<module>\u001b[0;34m()\u001b[0m\n\u001b[1;32m      4\u001b[0m   \u001b[0;32mif\u001b[0m \u001b[0mrow\u001b[0m\u001b[0;34m[\u001b[0m\u001b[0;34m'owner_user_id'\u001b[0m\u001b[0;34m]\u001b[0m \u001b[0;32min\u001b[0m \u001b[0musers_dict\u001b[0m\u001b[0;34m.\u001b[0m\u001b[0mkeys\u001b[0m\u001b[0;34m(\u001b[0m\u001b[0;34m)\u001b[0m\u001b[0;34m:\u001b[0m\u001b[0;34m\u001b[0m\u001b[0;34m\u001b[0m\u001b[0m\n\u001b[1;32m      5\u001b[0m     \u001b[0;32mif\u001b[0m \u001b[0mrow\u001b[0m\u001b[0;34m[\u001b[0m\u001b[0;34m'owner_user_id'\u001b[0m\u001b[0;34m]\u001b[0m \u001b[0;32min\u001b[0m \u001b[0mlinks\u001b[0m\u001b[0;34m.\u001b[0m\u001b[0mkeys\u001b[0m\u001b[0;34m(\u001b[0m\u001b[0;34m)\u001b[0m\u001b[0;34m:\u001b[0m\u001b[0;34m\u001b[0m\u001b[0;34m\u001b[0m\u001b[0m\n\u001b[0;32m----> 6\u001b[0;31m       \u001b[0mlinks\u001b[0m\u001b[0;34m[\u001b[0m\u001b[0mrow\u001b[0m\u001b[0;34m[\u001b[0m\u001b[0;34m'owner_user_id'\u001b[0m\u001b[0;34m]\u001b[0m\u001b[0;34m]\u001b[0m\u001b[0;34m.\u001b[0m\u001b[0mappend\u001b[0m\u001b[0;34m(\u001b[0m\u001b[0mquestion\u001b[0m\u001b[0;34m[\u001b[0m\u001b[0mrow\u001b[0m\u001b[0;34m[\u001b[0m\u001b[0;34m'parent_id'\u001b[0m\u001b[0;34m]\u001b[0m\u001b[0;34m]\u001b[0m\u001b[0;34m[\u001b[0m\u001b[0;34m'owner_user_id'\u001b[0m\u001b[0;34m]\u001b[0m\u001b[0;34m)\u001b[0m\u001b[0;34m\u001b[0m\u001b[0;34m\u001b[0m\u001b[0m\n\u001b[0m\u001b[1;32m      7\u001b[0m     \u001b[0;32melse\u001b[0m\u001b[0;34m:\u001b[0m\u001b[0;34m\u001b[0m\u001b[0;34m\u001b[0m\u001b[0m\n\u001b[1;32m      8\u001b[0m       \u001b[0;32mif\u001b[0m \u001b[0mrow\u001b[0m\u001b[0;34m[\u001b[0m\u001b[0;34m'parent_id'\u001b[0m\u001b[0;34m]\u001b[0m \u001b[0;32min\u001b[0m \u001b[0mquestion\u001b[0m\u001b[0;34m.\u001b[0m\u001b[0mkeys\u001b[0m\u001b[0;34m(\u001b[0m\u001b[0;34m)\u001b[0m\u001b[0;34m:\u001b[0m\u001b[0;34m\u001b[0m\u001b[0;34m\u001b[0m\u001b[0m\n",
            "\u001b[0;31mKeyError\u001b[0m: 61927722"
          ]
        }
      ]
    },
    {
      "cell_type": "code",
      "metadata": {
        "id": "xGpm3S2tbMiX",
        "colab": {
          "base_uri": "https://localhost:8080/"
        },
        "outputId": "8de66d4d-48cb-4279-f5b0-cf8107a1eef7"
      },
      "source": [
        "len(data_dump)"
      ],
      "execution_count": null,
      "outputs": [
        {
          "output_type": "execute_result",
          "data": {
            "text/plain": [
              "11340"
            ]
          },
          "metadata": {
            "tags": []
          },
          "execution_count": 31
        }
      ]
    },
    {
      "cell_type": "code",
      "metadata": {
        "id": "v3EnKmzRqndh",
        "colab": {
          "base_uri": "https://localhost:8080/",
          "height": 589
        },
        "outputId": "2fe6e555-392b-4695-dc40-cbdd60e4fe6a"
      },
      "source": [
        "postsA.sort_values('score', ascending=False)"
      ],
      "execution_count": null,
      "outputs": [
        {
          "output_type": "execute_result",
          "data": {
            "text/html": [
              "<div>\n",
              "<style scoped>\n",
              "    .dataframe tbody tr th:only-of-type {\n",
              "        vertical-align: middle;\n",
              "    }\n",
              "\n",
              "    .dataframe tbody tr th {\n",
              "        vertical-align: top;\n",
              "    }\n",
              "\n",
              "    .dataframe thead th {\n",
              "        text-align: right;\n",
              "    }\n",
              "</style>\n",
              "<table border=\"1\" class=\"dataframe\">\n",
              "  <thead>\n",
              "    <tr style=\"text-align: right;\">\n",
              "      <th></th>\n",
              "      <th>id</th>\n",
              "      <th>body</th>\n",
              "      <th>comment_count</th>\n",
              "      <th>owner_user_id</th>\n",
              "      <th>parent_id</th>\n",
              "      <th>score</th>\n",
              "    </tr>\n",
              "  </thead>\n",
              "  <tbody>\n",
              "    <tr>\n",
              "      <th>187928</th>\n",
              "      <td>48270314</td>\n",
              "      <td>&lt;p&gt;If you take advantage of &lt;a href=\"https://d...</td>\n",
              "      <td>19</td>\n",
              "      <td>400654.0</td>\n",
              "      <td>48270127</td>\n",
              "      <td>3348</td>\n",
              "    </tr>\n",
              "    <tr>\n",
              "      <th>187873</th>\n",
              "      <td>48274520</td>\n",
              "      <td>&lt;p&gt;I couldn't resist - the other answers are u...</td>\n",
              "      <td>13</td>\n",
              "      <td>781965.0</td>\n",
              "      <td>48270127</td>\n",
              "      <td>2066</td>\n",
              "    </tr>\n",
              "    <tr>\n",
              "      <th>505661</th>\n",
              "      <td>53453588</td>\n",
              "      <td>&lt;p&gt;There is a slight difference in the orderin...</td>\n",
              "      <td>22</td>\n",
              "      <td>485343.0</td>\n",
              "      <td>53452713</td>\n",
              "      <td>1209</td>\n",
              "    </tr>\n",
              "    <tr>\n",
              "      <th>332773</th>\n",
              "      <td>49836753</td>\n",
              "      <td>&lt;p&gt;You must have inadvertently upgraded your s...</td>\n",
              "      <td>12</td>\n",
              "      <td>812183.0</td>\n",
              "      <td>49836676</td>\n",
              "      <td>853</td>\n",
              "    </tr>\n",
              "    <tr>\n",
              "      <th>147543</th>\n",
              "      <td>52524114</td>\n",
              "      <td>&lt;p&gt;&lt;strong&gt;Note:&lt;/strong&gt; &lt;em&gt;These solutions ...</td>\n",
              "      <td>21</td>\n",
              "      <td>3679676.0</td>\n",
              "      <td>52524112</td>\n",
              "      <td>762</td>\n",
              "    </tr>\n",
              "    <tr>\n",
              "      <th>...</th>\n",
              "      <td>...</td>\n",
              "      <td>...</td>\n",
              "      <td>...</td>\n",
              "      <td>...</td>\n",
              "      <td>...</td>\n",
              "      <td>...</td>\n",
              "    </tr>\n",
              "    <tr>\n",
              "      <th>302264</th>\n",
              "      <td>55823425</td>\n",
              "      <td>&lt;p&gt;One of the simple ideas is to replace the s...</td>\n",
              "      <td>4</td>\n",
              "      <td>6043244.0</td>\n",
              "      <td>55823298</td>\n",
              "      <td>-10</td>\n",
              "    </tr>\n",
              "    <tr>\n",
              "      <th>89303</th>\n",
              "      <td>50920268</td>\n",
              "      <td>&lt;p&gt;This simple example uses a Regular Expressi...</td>\n",
              "      <td>1</td>\n",
              "      <td>4356188.0</td>\n",
              "      <td>50920180</td>\n",
              "      <td>-11</td>\n",
              "    </tr>\n",
              "    <tr>\n",
              "      <th>64799</th>\n",
              "      <td>57161892</td>\n",
              "      <td>&lt;p&gt;The error is due to JRE incompatibility. Lo...</td>\n",
              "      <td>2</td>\n",
              "      <td>11824054.0</td>\n",
              "      <td>55272870</td>\n",
              "      <td>-12</td>\n",
              "    </tr>\n",
              "    <tr>\n",
              "      <th>500213</th>\n",
              "      <td>53409107</td>\n",
              "      <td>&lt;p&gt;As mentioned by other people, you would nee...</td>\n",
              "      <td>2</td>\n",
              "      <td>7488236.0</td>\n",
              "      <td>53389956</td>\n",
              "      <td>-19</td>\n",
              "    </tr>\n",
              "    <tr>\n",
              "      <th>496828</th>\n",
              "      <td>53390513</td>\n",
              "      <td>&lt;p&gt;At first you should use a proper &lt;code&gt;Java...</td>\n",
              "      <td>1</td>\n",
              "      <td>8867416.0</td>\n",
              "      <td>53389956</td>\n",
              "      <td>-29</td>\n",
              "    </tr>\n",
              "  </tbody>\n",
              "</table>\n",
              "<p>551226 rows × 6 columns</p>\n",
              "</div>"
            ],
            "text/plain": [
              "              id  ... score\n",
              "187928  48270314  ...  3348\n",
              "187873  48274520  ...  2066\n",
              "505661  53453588  ...  1209\n",
              "332773  49836753  ...   853\n",
              "147543  52524114  ...   762\n",
              "...          ...  ...   ...\n",
              "302264  55823425  ...   -10\n",
              "89303   50920268  ...   -11\n",
              "64799   57161892  ...   -12\n",
              "500213  53409107  ...   -19\n",
              "496828  53390513  ...   -29\n",
              "\n",
              "[551226 rows x 6 columns]"
            ]
          },
          "metadata": {
            "tags": []
          },
          "execution_count": 26
        }
      ]
    },
    {
      "cell_type": "code",
      "metadata": {
        "id": "XCmZPsqmrUMg"
      },
      "source": [
        "# Construct a reference to the \"full\" table\n",
        "table_ref = dataset_ref.table(\"comments\")\n",
        "\n",
        "# API request - fetch the table\n",
        "comments_table = client.get_table(table_ref)"
      ],
      "execution_count": null,
      "outputs": []
    },
    {
      "cell_type": "code",
      "metadata": {
        "id": "YfriGz4NrW7I",
        "colab": {
          "base_uri": "https://localhost:8080/"
        },
        "outputId": "8eaebe7a-3f1f-476c-ed28-0199bfcc324a"
      },
      "source": [
        "comments_table.schema"
      ],
      "execution_count": null,
      "outputs": [
        {
          "output_type": "execute_result",
          "data": {
            "text/plain": [
              "[SchemaField('id', 'INTEGER', 'NULLABLE', None, ()),\n",
              " SchemaField('text', 'STRING', 'NULLABLE', None, ()),\n",
              " SchemaField('creation_date', 'TIMESTAMP', 'NULLABLE', None, ()),\n",
              " SchemaField('post_id', 'INTEGER', 'NULLABLE', None, ()),\n",
              " SchemaField('user_id', 'INTEGER', 'NULLABLE', None, ()),\n",
              " SchemaField('user_display_name', 'STRING', 'NULLABLE', None, ()),\n",
              " SchemaField('score', 'INTEGER', 'NULLABLE', None, ())]"
            ]
          },
          "metadata": {
            "tags": []
          },
          "execution_count": 28
        }
      ]
    },
    {
      "cell_type": "code",
      "metadata": {
        "id": "ps-7354wt5h3"
      },
      "source": [
        "#len(comments)"
      ],
      "execution_count": null,
      "outputs": []
    },
    {
      "cell_type": "markdown",
      "metadata": {
        "papermill": {
          "duration": 0.01107,
          "end_time": "2020-10-01T00:23:02.963253",
          "exception": false,
          "start_time": "2020-10-01T00:23:02.952183",
          "status": "completed"
        },
        "tags": [],
        "id": "E5neMFVd5Npg"
      },
      "source": [
        "The `list_rows()` method will also let us look at just the information in a specific column. If we want to see the first five entries in the `by` column, for example, we can do that!"
      ]
    },
    {
      "cell_type": "code",
      "metadata": {
        "id": "mho30cbcxZDa"
      },
      "source": [
        "postsA = postsA.fillna(0)\n",
        "postsA.drop(index=postsA[postsA['owner_user_id'] == 0].index, inplace=True)\n",
        "postsA['owner_user_id'] = postsA['owner_user_id'].astype(int)\n",
        "unique_parents = postsA[\"parent_id\"].unique()"
      ],
      "execution_count": null,
      "outputs": []
    },
    {
      "cell_type": "code",
      "metadata": {
        "id": "GRNQ_Pk08cWT"
      },
      "source": [
        "postQ = postsQ.fillna(0)\n",
        "postsQ.drop(index=postsQ[postsQ['owner_user_id'] == 0].index, inplace=True)"
      ],
      "execution_count": null,
      "outputs": []
    },
    {
      "cell_type": "code",
      "metadata": {
        "id": "pmYYk0a4yiys",
        "colab": {
          "base_uri": "https://localhost:8080/"
        },
        "outputId": "1288feeb-404f-4309-a299-27845c0462ba"
      },
      "source": [
        "len(unique_parents )\n"
      ],
      "execution_count": null,
      "outputs": [
        {
          "output_type": "execute_result",
          "data": {
            "text/plain": [
              "325189"
            ]
          },
          "metadata": {
            "tags": []
          },
          "execution_count": 33
        }
      ]
    },
    {
      "cell_type": "code",
      "metadata": {
        "id": "4P7d--KF95fw",
        "colab": {
          "base_uri": "https://localhost:8080/"
        },
        "outputId": "86a888af-fe33-4b3f-a61f-3ff1e92fc968"
      },
      "source": [
        "for ind in postsA[postsA['parent_id'] == 63560005].index:\n",
        "  print(ind)"
      ],
      "execution_count": null,
      "outputs": [
        {
          "output_type": "stream",
          "text": [
            "20518\n",
            "20611\n"
          ],
          "name": "stdout"
        }
      ]
    },
    {
      "cell_type": "code",
      "metadata": {
        "id": "4lbb9c6a3h-0"
      },
      "source": [
        "import numpy as np \n",
        "import pandas as pd\n",
        "import re\n",
        "import requests\n",
        "from random import choice\n",
        "import networkx as nx\n",
        "import matplotlib.pyplot as plt\n",
        "from fa2 import ForceAtlas2"
      ],
      "execution_count": null,
      "outputs": []
    },
    {
      "cell_type": "code",
      "metadata": {
        "id": "7veCZIy93iBi"
      },
      "source": [
        "G = nx.DiGraph()\n",
        "for ind in postsQ.index:\n",
        "  parent_id = postsQ[\"id\"][ind]\n",
        "  parent_user_id = postsQ[\"owner_user_id\"][ind]\n",
        "  G.add_node(postsQ[\"owner_user_id\"][ind], Name = postsQ[\"owner_user_id\"][ind])\n",
        "  for i in postsA[postsA['parent_id'] == postsQ[\"id\"][ind]].index:\n",
        "    G.add_edge(postsQ[\"owner_user_id\"][ind],postsA[\"owner_user_id\"][i])\n",
        "\n",
        "\n"
      ],
      "execution_count": null,
      "outputs": []
    },
    {
      "cell_type": "code",
      "metadata": {
        "id": "pVD_9f-O3iDq"
      },
      "source": [
        "#Removing Isolates\n",
        "for i in list(nx.isolates(G)):\n",
        "    G.remove_node(i)"
      ],
      "execution_count": null,
      "outputs": []
    },
    {
      "cell_type": "code",
      "metadata": {
        "id": "JaSjeHVm3iGR",
        "colab": {
          "base_uri": "https://localhost:8080/"
        },
        "outputId": "2a1448a2-ca5c-41e3-d338-dee54d504693"
      },
      "source": [
        "#getting the largest connected network\n",
        "largest_cc = max(nx.weakly_connected_components(G))\n",
        "len(largest_cc)"
      ],
      "execution_count": null,
      "outputs": [
        {
          "output_type": "execute_result",
          "data": {
            "text/plain": [
              "269173"
            ]
          },
          "metadata": {
            "tags": []
          },
          "execution_count": 38
        }
      ]
    },
    {
      "cell_type": "code",
      "metadata": {
        "id": "n_9K-tS-3iIO"
      },
      "source": [
        "#creating the subgraph\n",
        "G_1 = G.subgraph(largest_cc ).copy()"
      ],
      "execution_count": null,
      "outputs": []
    },
    {
      "cell_type": "code",
      "metadata": {
        "id": "c3HODKbLw5AO"
      },
      "source": [
        "# making graph undirected\n",
        "G_2 = G_1.to_undirected()\n",
        "\n"
      ],
      "execution_count": null,
      "outputs": []
    },
    {
      "cell_type": "code",
      "metadata": {
        "id": "VvNvFUa5Wxzv",
        "colab": {
          "base_uri": "https://localhost:8080/"
        },
        "outputId": "6f7130a1-7754-4217-ef12-1fd9d0a9ec3e"
      },
      "source": [
        "G_2.number_of_edges()\n"
      ],
      "execution_count": null,
      "outputs": [
        {
          "output_type": "execute_result",
          "data": {
            "text/plain": [
              "498282"
            ]
          },
          "metadata": {
            "tags": []
          },
          "execution_count": 50
        }
      ]
    },
    {
      "cell_type": "code",
      "metadata": {
        "id": "MbwgCo6xXxlr",
        "colab": {
          "base_uri": "https://localhost:8080/"
        },
        "outputId": "6459e654-22b8-4303-e033-0176eaea9585"
      },
      "source": [
        "G_2.number_of_nodes()"
      ],
      "execution_count": null,
      "outputs": [
        {
          "output_type": "execute_result",
          "data": {
            "text/plain": [
              "269173"
            ]
          },
          "metadata": {
            "tags": []
          },
          "execution_count": 54
        }
      ]
    },
    {
      "cell_type": "code",
      "metadata": {
        "id": "1eN9suR9E7ai"
      },
      "source": [
        "#getting node size \n",
        "deg = []\n",
        "for i in G_2.nodes():\n",
        "    deg.append(G_2.degree[i])"
      ],
      "execution_count": null,
      "outputs": []
    },
    {
      "cell_type": "code",
      "metadata": {
        "id": "hN2jg1ETV6qI",
        "colab": {
          "base_uri": "https://localhost:8080/",
          "height": 979
        },
        "outputId": "0453a901-d828-4746-9855-b1a668f4020b"
      },
      "source": [
        "plt.bar(G_2.nodes(), deg)"
      ],
      "execution_count": null,
      "outputs": [
        {
          "output_type": "execute_result",
          "data": {
            "text/plain": [
              "(array([2.66105e+05, 1.95200e+03, 5.17000e+02, 2.11000e+02, 9.60000e+01,\n",
              "        7.70000e+01, 4.30000e+01, 3.00000e+01, 1.90000e+01, 1.80000e+01,\n",
              "        1.40000e+01, 1.00000e+01, 9.00000e+00, 8.00000e+00, 9.00000e+00,\n",
              "        1.10000e+01, 5.00000e+00, 6.00000e+00, 3.00000e+00, 6.00000e+00,\n",
              "        2.00000e+00, 2.00000e+00, 3.00000e+00, 0.00000e+00, 2.00000e+00,\n",
              "        2.00000e+00, 0.00000e+00, 1.00000e+00, 1.00000e+00, 0.00000e+00,\n",
              "        0.00000e+00, 0.00000e+00, 0.00000e+00, 1.00000e+00, 0.00000e+00,\n",
              "        0.00000e+00, 1.00000e+00, 0.00000e+00, 0.00000e+00, 0.00000e+00,\n",
              "        1.00000e+00, 0.00000e+00, 0.00000e+00, 1.00000e+00, 0.00000e+00,\n",
              "        0.00000e+00, 1.00000e+00, 0.00000e+00, 2.00000e+00, 1.00000e+00,\n",
              "        0.00000e+00, 0.00000e+00, 0.00000e+00, 0.00000e+00, 0.00000e+00,\n",
              "        0.00000e+00, 0.00000e+00, 1.00000e+00, 0.00000e+00, 0.00000e+00,\n",
              "        0.00000e+00, 0.00000e+00, 0.00000e+00, 0.00000e+00, 0.00000e+00,\n",
              "        0.00000e+00, 0.00000e+00, 0.00000e+00, 0.00000e+00, 0.00000e+00,\n",
              "        0.00000e+00, 0.00000e+00, 0.00000e+00, 0.00000e+00, 0.00000e+00,\n",
              "        0.00000e+00, 0.00000e+00, 0.00000e+00, 0.00000e+00, 1.00000e+00,\n",
              "        0.00000e+00, 0.00000e+00, 0.00000e+00, 0.00000e+00, 0.00000e+00,\n",
              "        0.00000e+00, 0.00000e+00, 0.00000e+00, 0.00000e+00, 0.00000e+00,\n",
              "        0.00000e+00, 0.00000e+00, 0.00000e+00, 0.00000e+00, 0.00000e+00,\n",
              "        0.00000e+00, 0.00000e+00, 0.00000e+00, 0.00000e+00, 1.00000e+00]),\n",
              " array([1.00000e+00, 2.79200e+01, 5.48400e+01, 8.17600e+01, 1.08680e+02,\n",
              "        1.35600e+02, 1.62520e+02, 1.89440e+02, 2.16360e+02, 2.43280e+02,\n",
              "        2.70200e+02, 2.97120e+02, 3.24040e+02, 3.50960e+02, 3.77880e+02,\n",
              "        4.04800e+02, 4.31720e+02, 4.58640e+02, 4.85560e+02, 5.12480e+02,\n",
              "        5.39400e+02, 5.66320e+02, 5.93240e+02, 6.20160e+02, 6.47080e+02,\n",
              "        6.74000e+02, 7.00920e+02, 7.27840e+02, 7.54760e+02, 7.81680e+02,\n",
              "        8.08600e+02, 8.35520e+02, 8.62440e+02, 8.89360e+02, 9.16280e+02,\n",
              "        9.43200e+02, 9.70120e+02, 9.97040e+02, 1.02396e+03, 1.05088e+03,\n",
              "        1.07780e+03, 1.10472e+03, 1.13164e+03, 1.15856e+03, 1.18548e+03,\n",
              "        1.21240e+03, 1.23932e+03, 1.26624e+03, 1.29316e+03, 1.32008e+03,\n",
              "        1.34700e+03, 1.37392e+03, 1.40084e+03, 1.42776e+03, 1.45468e+03,\n",
              "        1.48160e+03, 1.50852e+03, 1.53544e+03, 1.56236e+03, 1.58928e+03,\n",
              "        1.61620e+03, 1.64312e+03, 1.67004e+03, 1.69696e+03, 1.72388e+03,\n",
              "        1.75080e+03, 1.77772e+03, 1.80464e+03, 1.83156e+03, 1.85848e+03,\n",
              "        1.88540e+03, 1.91232e+03, 1.93924e+03, 1.96616e+03, 1.99308e+03,\n",
              "        2.02000e+03, 2.04692e+03, 2.07384e+03, 2.10076e+03, 2.12768e+03,\n",
              "        2.15460e+03, 2.18152e+03, 2.20844e+03, 2.23536e+03, 2.26228e+03,\n",
              "        2.28920e+03, 2.31612e+03, 2.34304e+03, 2.36996e+03, 2.39688e+03,\n",
              "        2.42380e+03, 2.45072e+03, 2.47764e+03, 2.50456e+03, 2.53148e+03,\n",
              "        2.55840e+03, 2.58532e+03, 2.61224e+03, 2.63916e+03, 2.66608e+03,\n",
              "        2.69300e+03]),\n",
              " <a list of 100 Patch objects>)"
            ]
          },
          "metadata": {
            "tags": []
          },
          "execution_count": 52
        },
        {
          "output_type": "display_data",
          "data": {
            "image/png": "[encoded data removed]",
            "text/plain": [
              "<Figure size 432x288 with 1 Axes>"
            ]
          },
          "metadata": {
            "tags": [],
            "needs_background": "light"
          }
        }
      ]
    },
    {
      "cell_type": "code",
      "metadata": {
        "id": "qOVUC0j6w5DB",
        "colab": {
          "base_uri": "https://localhost:8080/",
          "height": 392
        },
        "outputId": "4d235bc6-d92d-4c05-8a91-e4c7e139726a"
      },
      "source": [
        "pos = nx.kamada_kawai_layout(G_2)\n",
        "plt.figure(3, figsize = (12,12))\n",
        "#nodes = nx.draw_networkx_nodes(G_2, pos,node_size=10, node_color=res.values())\n",
        "#nodes.set_edgecolor('#000000')\n",
        "#nx.draw_networkx_edges(G_2, pos)\n",
        "nx.draw(G_2,pos, node_size = deg)\n",
        "plt.show()"
      ],
      "execution_count": null,
      "outputs": [
        {
          "output_type": "error",
          "ename": "KeyboardInterrupt",
          "evalue": "ignored",
          "traceback": [
            "\u001b[0;31m---------------------------------------------------------------------------\u001b[0m",
            "\u001b[0;31mKeyboardInterrupt\u001b[0m                         Traceback (most recent call last)",
            "\u001b[0;32m<ipython-input-42-e0d9d5869200>\u001b[0m in \u001b[0;36m<module>\u001b[0;34m()\u001b[0m\n\u001b[0;32m----> 1\u001b[0;31m \u001b[0mpos\u001b[0m \u001b[0;34m=\u001b[0m \u001b[0mnx\u001b[0m\u001b[0;34m.\u001b[0m\u001b[0mkamada_kawai_layout\u001b[0m\u001b[0;34m(\u001b[0m\u001b[0mG_2\u001b[0m\u001b[0;34m)\u001b[0m\u001b[0;34m\u001b[0m\u001b[0;34m\u001b[0m\u001b[0m\n\u001b[0m\u001b[1;32m      2\u001b[0m \u001b[0mplt\u001b[0m\u001b[0;34m.\u001b[0m\u001b[0mfigure\u001b[0m\u001b[0;34m(\u001b[0m\u001b[0;36m3\u001b[0m\u001b[0;34m,\u001b[0m \u001b[0mfigsize\u001b[0m \u001b[0;34m=\u001b[0m \u001b[0;34m(\u001b[0m\u001b[0;36m12\u001b[0m\u001b[0;34m,\u001b[0m\u001b[0;36m12\u001b[0m\u001b[0;34m)\u001b[0m\u001b[0;34m)\u001b[0m\u001b[0;34m\u001b[0m\u001b[0;34m\u001b[0m\u001b[0m\n\u001b[1;32m      3\u001b[0m \u001b[0;31m#nodes = nx.draw_networkx_nodes(G_2, pos,node_size=10, node_color=res.values())\u001b[0m\u001b[0;34m\u001b[0m\u001b[0;34m\u001b[0m\u001b[0;34m\u001b[0m\u001b[0m\n\u001b[1;32m      4\u001b[0m \u001b[0;31m#nodes.set_edgecolor('#000000')\u001b[0m\u001b[0;34m\u001b[0m\u001b[0;34m\u001b[0m\u001b[0;34m\u001b[0m\u001b[0m\n\u001b[1;32m      5\u001b[0m \u001b[0;31m#nx.draw_networkx_edges(G_2, pos)\u001b[0m\u001b[0;34m\u001b[0m\u001b[0;34m\u001b[0m\u001b[0;34m\u001b[0m\u001b[0m\n",
            "\u001b[0;32m/usr/local/lib/python3.6/dist-packages/networkx/drawing/layout.py\u001b[0m in \u001b[0;36mkamada_kawai_layout\u001b[0;34m(G, dist, pos, weight, scale, center, dim)\u001b[0m\n\u001b[1;32m    702\u001b[0m \u001b[0;34m\u001b[0m\u001b[0m\n\u001b[1;32m    703\u001b[0m     \u001b[0;32mif\u001b[0m \u001b[0mdist\u001b[0m \u001b[0;32mis\u001b[0m \u001b[0;32mNone\u001b[0m\u001b[0;34m:\u001b[0m\u001b[0;34m\u001b[0m\u001b[0;34m\u001b[0m\u001b[0m\n\u001b[0;32m--> 704\u001b[0;31m         \u001b[0mdist\u001b[0m \u001b[0;34m=\u001b[0m \u001b[0mdict\u001b[0m\u001b[0;34m(\u001b[0m\u001b[0mnx\u001b[0m\u001b[0;34m.\u001b[0m\u001b[0mshortest_path_length\u001b[0m\u001b[0;34m(\u001b[0m\u001b[0mG\u001b[0m\u001b[0;34m,\u001b[0m \u001b[0mweight\u001b[0m\u001b[0;34m=\u001b[0m\u001b[0mweight\u001b[0m\u001b[0;34m)\u001b[0m\u001b[0;34m)\u001b[0m\u001b[0;34m\u001b[0m\u001b[0;34m\u001b[0m\u001b[0m\n\u001b[0m\u001b[1;32m    705\u001b[0m     \u001b[0mdist_mtx\u001b[0m \u001b[0;34m=\u001b[0m \u001b[0;36m1e6\u001b[0m \u001b[0;34m*\u001b[0m \u001b[0mnp\u001b[0m\u001b[0;34m.\u001b[0m\u001b[0mones\u001b[0m\u001b[0;34m(\u001b[0m\u001b[0;34m(\u001b[0m\u001b[0mnNodes\u001b[0m\u001b[0;34m,\u001b[0m \u001b[0mnNodes\u001b[0m\u001b[0;34m)\u001b[0m\u001b[0;34m)\u001b[0m\u001b[0;34m\u001b[0m\u001b[0;34m\u001b[0m\u001b[0m\n\u001b[1;32m    706\u001b[0m     \u001b[0;32mfor\u001b[0m \u001b[0mrow\u001b[0m\u001b[0;34m,\u001b[0m \u001b[0mnr\u001b[0m \u001b[0;32min\u001b[0m \u001b[0menumerate\u001b[0m\u001b[0;34m(\u001b[0m\u001b[0mG\u001b[0m\u001b[0;34m)\u001b[0m\u001b[0;34m:\u001b[0m\u001b[0;34m\u001b[0m\u001b[0;34m\u001b[0m\u001b[0m\n",
            "\u001b[0;32m/usr/local/lib/python3.6/dist-packages/networkx/algorithms/shortest_paths/weighted.py\u001b[0m in \u001b[0;36mall_pairs_dijkstra_path_length\u001b[0;34m(G, cutoff, weight)\u001b[0m\n\u001b[1;32m   1041\u001b[0m     \u001b[0mlength\u001b[0m \u001b[0;34m=\u001b[0m \u001b[0msingle_source_dijkstra_path_length\u001b[0m\u001b[0;34m\u001b[0m\u001b[0;34m\u001b[0m\u001b[0m\n\u001b[1;32m   1042\u001b[0m     \u001b[0;32mfor\u001b[0m \u001b[0mn\u001b[0m \u001b[0;32min\u001b[0m \u001b[0mG\u001b[0m\u001b[0;34m:\u001b[0m\u001b[0;34m\u001b[0m\u001b[0;34m\u001b[0m\u001b[0m\n\u001b[0;32m-> 1043\u001b[0;31m         \u001b[0;32myield\u001b[0m \u001b[0;34m(\u001b[0m\u001b[0mn\u001b[0m\u001b[0;34m,\u001b[0m \u001b[0mlength\u001b[0m\u001b[0;34m(\u001b[0m\u001b[0mG\u001b[0m\u001b[0;34m,\u001b[0m \u001b[0mn\u001b[0m\u001b[0;34m,\u001b[0m \u001b[0mcutoff\u001b[0m\u001b[0;34m=\u001b[0m\u001b[0mcutoff\u001b[0m\u001b[0;34m,\u001b[0m \u001b[0mweight\u001b[0m\u001b[0;34m=\u001b[0m\u001b[0mweight\u001b[0m\u001b[0;34m)\u001b[0m\u001b[0;34m)\u001b[0m\u001b[0;34m\u001b[0m\u001b[0;34m\u001b[0m\u001b[0m\n\u001b[0m\u001b[1;32m   1044\u001b[0m \u001b[0;34m\u001b[0m\u001b[0m\n\u001b[1;32m   1045\u001b[0m \u001b[0;34m\u001b[0m\u001b[0m\n",
            "\u001b[0;32m/usr/local/lib/python3.6/dist-packages/networkx/algorithms/shortest_paths/weighted.py\u001b[0m in \u001b[0;36msingle_source_dijkstra_path_length\u001b[0;34m(G, source, cutoff, weight)\u001b[0m\n\u001b[1;32m    365\u001b[0m \u001b[0;34m\u001b[0m\u001b[0m\n\u001b[1;32m    366\u001b[0m     \"\"\"\n\u001b[0;32m--> 367\u001b[0;31m     \u001b[0;32mreturn\u001b[0m \u001b[0mmulti_source_dijkstra_path_length\u001b[0m\u001b[0;34m(\u001b[0m\u001b[0mG\u001b[0m\u001b[0;34m,\u001b[0m \u001b[0;34m{\u001b[0m\u001b[0msource\u001b[0m\u001b[0;34m}\u001b[0m\u001b[0;34m,\u001b[0m \u001b[0mcutoff\u001b[0m\u001b[0;34m=\u001b[0m\u001b[0mcutoff\u001b[0m\u001b[0;34m,\u001b[0m \u001b[0mweight\u001b[0m\u001b[0;34m=\u001b[0m\u001b[0mweight\u001b[0m\u001b[0;34m)\u001b[0m\u001b[0;34m\u001b[0m\u001b[0;34m\u001b[0m\u001b[0m\n\u001b[0m\u001b[1;32m    368\u001b[0m \u001b[0;34m\u001b[0m\u001b[0m\n\u001b[1;32m    369\u001b[0m \u001b[0;34m\u001b[0m\u001b[0m\n",
            "\u001b[0;32m/usr/local/lib/python3.6/dist-packages/networkx/algorithms/shortest_paths/weighted.py\u001b[0m in \u001b[0;36mmulti_source_dijkstra_path_length\u001b[0;34m(G, sources, cutoff, weight)\u001b[0m\n\u001b[1;32m    613\u001b[0m         \u001b[0;32mraise\u001b[0m \u001b[0mValueError\u001b[0m\u001b[0;34m(\u001b[0m\u001b[0;34m\"sources must not be empty\"\u001b[0m\u001b[0;34m)\u001b[0m\u001b[0;34m\u001b[0m\u001b[0;34m\u001b[0m\u001b[0m\n\u001b[1;32m    614\u001b[0m     \u001b[0mweight\u001b[0m \u001b[0;34m=\u001b[0m \u001b[0m_weight_function\u001b[0m\u001b[0;34m(\u001b[0m\u001b[0mG\u001b[0m\u001b[0;34m,\u001b[0m \u001b[0mweight\u001b[0m\u001b[0;34m)\u001b[0m\u001b[0;34m\u001b[0m\u001b[0;34m\u001b[0m\u001b[0m\n\u001b[0;32m--> 615\u001b[0;31m     \u001b[0;32mreturn\u001b[0m \u001b[0m_dijkstra_multisource\u001b[0m\u001b[0;34m(\u001b[0m\u001b[0mG\u001b[0m\u001b[0;34m,\u001b[0m \u001b[0msources\u001b[0m\u001b[0;34m,\u001b[0m \u001b[0mweight\u001b[0m\u001b[0;34m,\u001b[0m \u001b[0mcutoff\u001b[0m\u001b[0;34m=\u001b[0m\u001b[0mcutoff\u001b[0m\u001b[0;34m)\u001b[0m\u001b[0;34m\u001b[0m\u001b[0;34m\u001b[0m\u001b[0m\n\u001b[0m\u001b[1;32m    616\u001b[0m \u001b[0;34m\u001b[0m\u001b[0m\n\u001b[1;32m    617\u001b[0m \u001b[0;34m\u001b[0m\u001b[0m\n",
            "\u001b[0;32m/usr/local/lib/python3.6/dist-packages/networkx/algorithms/shortest_paths/weighted.py\u001b[0m in \u001b[0;36m_dijkstra_multisource\u001b[0;34m(G, sources, weight, pred, paths, cutoff, target)\u001b[0m\n\u001b[1;32m    813\u001b[0m     \u001b[0;32mwhile\u001b[0m \u001b[0mfringe\u001b[0m\u001b[0;34m:\u001b[0m\u001b[0;34m\u001b[0m\u001b[0;34m\u001b[0m\u001b[0m\n\u001b[1;32m    814\u001b[0m         \u001b[0;34m(\u001b[0m\u001b[0md\u001b[0m\u001b[0;34m,\u001b[0m \u001b[0m_\u001b[0m\u001b[0;34m,\u001b[0m \u001b[0mv\u001b[0m\u001b[0;34m)\u001b[0m \u001b[0;34m=\u001b[0m \u001b[0mpop\u001b[0m\u001b[0;34m(\u001b[0m\u001b[0mfringe\u001b[0m\u001b[0;34m)\u001b[0m\u001b[0;34m\u001b[0m\u001b[0;34m\u001b[0m\u001b[0m\n\u001b[0;32m--> 815\u001b[0;31m         \u001b[0;32mif\u001b[0m \u001b[0mv\u001b[0m \u001b[0;32min\u001b[0m \u001b[0mdist\u001b[0m\u001b[0;34m:\u001b[0m\u001b[0;34m\u001b[0m\u001b[0;34m\u001b[0m\u001b[0m\n\u001b[0m\u001b[1;32m    816\u001b[0m             \u001b[0;32mcontinue\u001b[0m  \u001b[0;31m# already searched this node.\u001b[0m\u001b[0;34m\u001b[0m\u001b[0;34m\u001b[0m\u001b[0m\n\u001b[1;32m    817\u001b[0m         \u001b[0mdist\u001b[0m\u001b[0;34m[\u001b[0m\u001b[0mv\u001b[0m\u001b[0;34m]\u001b[0m \u001b[0;34m=\u001b[0m \u001b[0md\u001b[0m\u001b[0;34m\u001b[0m\u001b[0;34m\u001b[0m\u001b[0m\n",
            "\u001b[0;31mKeyboardInterrupt\u001b[0m: "
          ]
        }
      ]
    },
    {
      "cell_type": "code",
      "metadata": {
        "id": "OHA0yIHRw5Fl"
      },
      "source": [
        "forceatlas2 = ForceAtlas2(\n",
        "                        # Behavior alternatives\n",
        "                        outboundAttractionDistribution=False,  # Dissuade hubs\n",
        "                        edgeWeightInfluence=0.5,\n",
        "                        # Performance\n",
        "                        jitterTolerance=2,  # Tolerance\n",
        "                        barnesHutOptimize=False,\n",
        "                        barnesHutTheta=.5,\n",
        "                        # Tuning\n",
        "                        scalingRatio=2,\n",
        "                        strongGravityMode=False,\n",
        "                        gravity=0.1,\n",
        "                        # Log\n",
        "                        verbose=True)\n",
        "\n",
        "positions = forceatlas2.forceatlas2_networkx_layout(G_2, pos=None, iterations=2000)\n",
        "nx.draw_networkx_nodes(G_2, positions, node_size=deg, node_color=color_map)\n",
        "nx.draw_networkx_edges(G_2, positions, edge_color=\"yellow\", alpha=0.5, width=0.1)\n",
        "plt.rcParams[\"figure.figsize\"] = [40,40]\n",
        "plt.axis('off')\n",
        "plt.show()"
      ],
      "execution_count": null,
      "outputs": []
    },
    {
      "cell_type": "code",
      "metadata": {
        "execution": {
          "iopub.execute_input": "2020-10-01T00:23:02.991684Z",
          "iopub.status.busy": "2020-10-01T00:23:02.991079Z",
          "iopub.status.idle": "2020-10-01T00:23:03.405918Z",
          "shell.execute_reply": "2020-10-01T00:23:03.405391Z"
        },
        "papermill": {
          "duration": 0.4317,
          "end_time": "2020-10-01T00:23:03.406028",
          "exception": false,
          "start_time": "2020-10-01T00:23:02.974328",
          "status": "completed"
        },
        "tags": [],
        "id": "YUBf8Xme5Nph"
      },
      "source": [
        "# Preview the first five entries in the \"by\" column of the \"full\" table\n",
        "client.list_rows(table, selected_fields=table.schema[:1], max_results=5).to_dataframe()"
      ],
      "execution_count": null,
      "outputs": []
    },
    {
      "cell_type": "markdown",
      "metadata": {
        "papermill": {
          "duration": 0.011313,
          "end_time": "2020-10-01T00:23:03.428976",
          "exception": false,
          "start_time": "2020-10-01T00:23:03.417663",
          "status": "completed"
        },
        "tags": [],
        "id": "soWX8F2O5Npk"
      },
      "source": [
        "# Disclaimer\n",
        "Before we go into the coding exercise, a quick disclaimer for those who already know some SQL:\n",
        "\n",
        "**Each Kaggle user can scan 5TB every 30 days for free.  Once you hit that limit, you'll have to wait for it to reset.**\n",
        "\n",
        "The commands you've seen so far won't demand a meaningful fraction of that limit. But some BiqQuery datasets are huge. So, if you already know SQL, wait to run SELECT queries until you've seen how to use your allotment effectively. If you are like most people reading this, you don't know how to write these queries yet, so you don't need to worry about this disclaimer.\n"
      ]
    },
    {
      "cell_type": "markdown",
      "metadata": {
        "papermill": {
          "duration": 0.011478,
          "end_time": "2020-10-01T00:23:03.474909",
          "exception": false,
          "start_time": "2020-10-01T00:23:03.463431",
          "status": "completed"
        },
        "tags": [],
        "id": "ZRk2olhz5Npl"
      },
      "source": [
        "---\n",
        "\n",
        "\n",
        "\n",
        "\n",
        "*Have questions or comments? Visit the [Learn Discussion forum](https://www.kaggle.com/learn-forum/161314) to chat with other Learners.*"
      ]
    }
  ]
}